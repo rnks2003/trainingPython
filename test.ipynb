{
 "cells": [
  {
   "cell_type": "markdown",
   "metadata": {},
   "source": [
    "# About"
   ]
  },
  {
   "cell_type": "markdown",
   "metadata": {},
   "source": [
    "Mentor : **Rahul**\n",
    "\n",
    "Topics : \n",
    "\n",
    "    1. Python Basics"
   ]
  },
  {
   "cell_type": "markdown",
   "metadata": {},
   "source": [
    "# 24.06.2024"
   ]
  },
  {
   "cell_type": "markdown",
   "metadata": {},
   "source": [
    "## Datatypes :"
   ]
  },
  {
   "cell_type": "markdown",
   "metadata": {},
   "source": [
    "1. Numeric\n",
    "        \n",
    "        i. int\n",
    "        ii. float\n",
    "        iii. complex\n",
    "\n",
    "2. String\n",
    "\n",
    "3. Boolean"
   ]
  },
  {
   "cell_type": "markdown",
   "metadata": {},
   "source": [
    "### Datatypes as classes"
   ]
  },
  {
   "cell_type": "code",
   "execution_count": 51,
   "metadata": {},
   "outputs": [
    {
     "name": "stdout",
     "output_type": "stream",
     "text": [
      "<class 'int'>\n"
     ]
    }
   ],
   "source": [
    "x = 10\n",
    "print(type(x))"
   ]
  },
  {
   "cell_type": "markdown",
   "metadata": {},
   "source": [
    "*Observe the word class printed!!*"
   ]
  },
  {
   "cell_type": "markdown",
   "metadata": {},
   "source": [
    "## Identifiers :"
   ]
  },
  {
   "cell_type": "markdown",
   "metadata": {},
   "source": [
    "### Rules of naming identifiers :"
   ]
  },
  {
   "cell_type": "markdown",
   "metadata": {},
   "source": [
    "        1. Must be alphanumeric\n",
    "        2. Shouldnt start with numbers\n",
    "        3. _ is the only special character allowed\n",
    "        4. No whiteSpaces allowed"
   ]
  },
  {
   "cell_type": "markdown",
   "metadata": {},
   "source": [
    "### Code Snippets : "
   ]
  },
  {
   "cell_type": "code",
   "execution_count": 52,
   "metadata": {},
   "outputs": [
    {
     "ename": "SyntaxError",
     "evalue": "invalid decimal literal (1555758849.py, line 1)",
     "output_type": "error",
     "traceback": [
      "\u001b[0;36m  Cell \u001b[0;32mIn[52], line 1\u001b[0;36m\u001b[0m\n\u001b[0;31m    123xyz = 10\u001b[0m\n\u001b[0m      ^\u001b[0m\n\u001b[0;31mSyntaxError\u001b[0m\u001b[0;31m:\u001b[0m invalid decimal literal\n"
     ]
    }
   ],
   "source": [
    "123xyz = 10"
   ]
  },
  {
   "cell_type": "code",
   "execution_count": null,
   "metadata": {},
   "outputs": [
    {
     "name": "stdout",
     "output_type": "stream",
     "text": [
      "type of 10 is <class 'int'>\n"
     ]
    }
   ],
   "source": [
    "_ = 10\n",
    "print(f\"type of {_} is {type(_)}\")"
   ]
  },
  {
   "cell_type": "markdown",
   "metadata": {},
   "source": [
    "## Keywords :"
   ]
  },
  {
   "cell_type": "markdown",
   "metadata": {},
   "source": [
    "1. break\n",
    "\n",
    "2. while\n",
    "\n",
    "3. True\n",
    "\n",
    "4. False\n",
    "\n",
    "5. pass"
   ]
  },
  {
   "cell_type": "markdown",
   "metadata": {},
   "source": [
    "## Operators :"
   ]
  },
  {
   "cell_type": "markdown",
   "metadata": {},
   "source": [
    "### Based on operands"
   ]
  },
  {
   "cell_type": "markdown",
   "metadata": {},
   "source": [
    "1. Unary\n",
    "\n",
    "2. Binary"
   ]
  },
  {
   "cell_type": "markdown",
   "metadata": {},
   "source": [
    "### Based on operation"
   ]
  },
  {
   "cell_type": "markdown",
   "metadata": {},
   "source": [
    "1. Arithmatic\n",
    "\n",
    "        i. +\n",
    "        ii. - \n",
    "        iii. *\n",
    "        iv. /\n",
    "        v. %\n",
    "        vi. //          -> Floor division operator\n",
    "        vii. **         -> Exponential operator\n",
    "\n",
    "2. Logical\n",
    "\n",
    "        i. and\n",
    "        ii. or\n",
    "        iii. not\n",
    "\n",
    "        a       b       a and b         a or b          not a\n",
    "        0       0       0               0               1\n",
    "        0       1       0               1               1\n",
    "        1       0       0               1               0\n",
    "        1       1       1               1               0\n",
    "\n",
    "3. Relational\n",
    "\n",
    "        i. <\n",
    "        ii. >\n",
    "        iii. <=\n",
    "        iv. >=\n",
    "        v. != \n",
    "        vi. ==\n",
    "\n",
    "4. Bitwise\n",
    "\n",
    "        i. &\n",
    "        ii. !\n",
    "        iii. ^\n",
    "        iv. <<\n",
    "        v. >>\n",
    "\n",
    "5. Assignment\n",
    "\n",
    "        i. ="
   ]
  },
  {
   "cell_type": "markdown",
   "metadata": {},
   "source": [
    "### Special operators"
   ]
  },
  {
   "cell_type": "markdown",
   "metadata": {},
   "source": [
    "1. Identity\n",
    "\n",
    "        i. is\n",
    "        ii. is not\n",
    "\n",
    "2. Membership\n",
    "\n",
    "        i. in\n",
    "        ii. not in\n",
    "\n",
    "3. Slicing\n",
    "\n",
    "        i. :\n",
    "\n",
    "4. Dot\n",
    "\n",
    "        i. ."
   ]
  },
  {
   "cell_type": "markdown",
   "metadata": {},
   "source": [
    "### Code Snippets :"
   ]
  },
  {
   "cell_type": "markdown",
   "metadata": {},
   "source": [
    "*Illustration of precedence :*"
   ]
  },
  {
   "cell_type": "code",
   "execution_count": null,
   "metadata": {},
   "outputs": [
    {
     "name": "stdout",
     "output_type": "stream",
     "text": [
      "3\n"
     ]
    }
   ],
   "source": [
    "a = 1\n",
    "b = 3\n",
    "\n",
    "print(b*a**b)"
   ]
  },
  {
   "cell_type": "markdown",
   "metadata": {},
   "source": [
    "## Collections :"
   ]
  },
  {
   "cell_type": "markdown",
   "metadata": {},
   "source": [
    "*Group of data items enclosed within specific bounds*"
   ]
  },
  {
   "cell_type": "markdown",
   "metadata": {},
   "source": [
    "1. List [ ]\n",
    "\n",
    "        i. Stores homogenous and heterogenous data\n",
    "        ii. Accepts duplicate data\n",
    "        iii. Indexed collection\n",
    "        iv. Supports slicing\n",
    "        v. Mutable\n",
    "        vi. Iterable\n",
    "        vii. 11 inbuilt methods\n",
    "\n",
    "2. Tuples ( )\n",
    "\n",
    "        i. Stores homogenous and heterogenous data\n",
    "        ii. Accepts duplicate data\n",
    "        iii. Indexed collection\n",
    "        iv. Supports slicing\n",
    "        v. Immutable\n",
    "        vi. Iterable\n",
    "        vii. 2 inbuilt methods\n",
    "\n",
    "3. Set { }\n",
    "\n",
    "        i. Stores homogenous and heterogenous data\n",
    "        ii. Doesnt accept duplicate data\n",
    "        iii. Random ordered collection\n",
    "        iv. Doesnt supports slicing\n",
    "        v. Mutable\n",
    "        vi. Iterable\n",
    "        vii. 17 inbuilt methods\n",
    "\n",
    "4. Dictionary { key : value }\n",
    "\n",
    "        i. Stores homogenous and heterogenous data\n",
    "        ii. Accepts duplicate values, key must unique\n",
    "        iii. Random ordered collection\n",
    "        iv. Doesnt supports slicing\n",
    "        v. Mutable\n",
    "        vi. Iterable\n",
    "        vii. 11 inbuilt methods\n",
    "\n",
    "5. String \n",
    "    \n",
    "        a. \" \"\n",
    "        b. ' ' \n",
    "        c. \"\"\" \"\"\"\n",
    "\n",
    "        i. Stores homogenous and heterogenous data\n",
    "        ii. Accepts duplicate values, key must unique\n",
    "        iii. Indexed collection\n",
    "        iv. Supports slicing\n",
    "        v. Immutable                                    -> Use replace() to make it mutable\n",
    "        vi. Iterable\n",
    "        vii. 47 inbuilt methods"
   ]
  },
  {
   "cell_type": "markdown",
   "metadata": {},
   "source": [
    "### Code Snippets : "
   ]
  },
  {
   "cell_type": "code",
   "execution_count": null,
   "metadata": {},
   "outputs": [],
   "source": [
    "lst = [1,2,'R',1]\n",
    "tup = (1,2,'R',1)\n",
    "seT = {1,2,'R',1}\n",
    "\n",
    "dicT = {1 : 2, 'name' : 'R', 3 : 2}\n",
    "\n",
    "string = \"12R\""
   ]
  },
  {
   "cell_type": "code",
   "execution_count": null,
   "metadata": {},
   "outputs": [
    {
     "name": "stdout",
     "output_type": "stream",
     "text": [
      "1\n",
      "2\n",
      "R\n"
     ]
    }
   ],
   "source": [
    "for i in seT:\n",
    "    print(i)"
   ]
  },
  {
   "cell_type": "markdown",
   "metadata": {},
   "source": [
    "## Control Statements :"
   ]
  },
  {
   "cell_type": "markdown",
   "metadata": {},
   "source": [
    "*Statements used to control the flow of execution*"
   ]
  },
  {
   "cell_type": "markdown",
   "metadata": {},
   "source": [
    "### Branching Statement :"
   ]
  },
  {
   "cell_type": "markdown",
   "metadata": {},
   "source": [
    "1. if\n",
    "\n",
    "2. else\n",
    "\n",
    "3. elif\n",
    "\n",
    "4. elif ladder\n",
    "\n",
    "5. nested if\n",
    "\n",
    "6. match case (py ver > 3.2)"
   ]
  },
  {
   "cell_type": "markdown",
   "metadata": {},
   "source": [
    "### Looping Statements :"
   ]
  },
  {
   "cell_type": "markdown",
   "metadata": {},
   "source": [
    "1. for \n",
    "\n",
    "2. while"
   ]
  },
  {
   "cell_type": "markdown",
   "metadata": {},
   "source": [
    "### Code snippet"
   ]
  },
  {
   "cell_type": "markdown",
   "metadata": {},
   "source": [
    "    for : num -> 10,11,12,13\n",
    "\n",
    "    .for : i -> 2, ... num-1\n",
    "\n",
    "        10,3 : 10 break\n",
    "        11,3 : 11 break\n",
    "        12,3 : 12 break\n",
    "        13,3 : 13 break\n",
    "\n",
    "    out : 10,11,12,13"
   ]
  },
  {
   "cell_type": "code",
   "execution_count": null,
   "metadata": {},
   "outputs": [
    {
     "name": "stdout",
     "output_type": "stream",
     "text": [
      "10\n",
      "11\n",
      "12\n",
      "13\n"
     ]
    }
   ],
   "source": [
    "for num in range(10,14):\n",
    "    for i in range(2,num):\n",
    "        if i%2 == 1: \n",
    "            print(num)\n",
    "            break"
   ]
  },
  {
   "cell_type": "code",
   "execution_count": null,
   "metadata": {},
   "outputs": [
    {
     "name": "stdout",
     "output_type": "stream",
     "text": [
      "Hello\n"
     ]
    }
   ],
   "source": [
    "x = -11\n",
    "if x : print(\"Hello\")\n",
    "else : print(\"Hi\")      # executed if x = 0, False, None"
   ]
  },
  {
   "cell_type": "markdown",
   "metadata": {},
   "source": [
    "## Methods :"
   ]
  },
  {
   "cell_type": "markdown",
   "metadata": {},
   "source": [
    "*Block of code executing a particular task*"
   ]
  },
  {
   "cell_type": "markdown",
   "metadata": {},
   "source": [
    "### Syntax :"
   ]
  },
  {
   "cell_type": "markdown",
   "metadata": {},
   "source": [
    "**def** *function_name* ( *arg* ) -> *return_type* :\n",
    "\n",
    "        stmt1\n",
    "        stmt2"
   ]
  },
  {
   "cell_type": "markdown",
   "metadata": {},
   "source": [
    "### Parts :"
   ]
  },
  {
   "cell_type": "markdown",
   "metadata": {},
   "source": [
    "1. Function header / defintion\n",
    "\n",
    "2. Function body\n",
    "\n",
    "3. Function calling"
   ]
  },
  {
   "cell_type": "markdown",
   "metadata": {},
   "source": [
    "### Types : "
   ]
  },
  {
   "cell_type": "markdown",
   "metadata": {},
   "source": [
    "1. User defined\n",
    "\n",
    "2. Built in\n",
    "\n",
    "3. Lambda/ Anonymous\n",
    "\n",
    "4. Miscellaneous\n",
    "\n",
    "        . Giving aliasing name for existing function \n",
    "        \n",
    "        . def sum():\n",
    "        .       print(\"Sum\")\n",
    "        . sum()                 -> Sum\n",
    "        . add = sum             -> add is misc. function\n",
    "        . add()                 -> Sum\n",
    "\n",
    "5. Nested\n",
    "\n",
    "6. Function calling another function\n",
    "\n",
    "7. Function name passing as a parameter to another function"
   ]
  },
  {
   "cell_type": "markdown",
   "metadata": {},
   "source": [
    "### Code Snippet :"
   ]
  },
  {
   "cell_type": "code",
   "execution_count": null,
   "metadata": {},
   "outputs": [
    {
     "name": "stdout",
     "output_type": "stream",
     "text": [
      "Sum\n",
      "Sum\n",
      "type(sum) : <class 'function'> -> <function sum at 0x1105c6560>\n",
      "type(add) : <class 'function'> -> <function sum at 0x1105c6560>\n"
     ]
    }
   ],
   "source": [
    "def sum():\n",
    "    print(\"Sum\")\n",
    "\n",
    "sum()\n",
    "add = sum\n",
    "add()\n",
    "\n",
    "print(f\"type(sum) : {type(sum)} -> {sum}\\ntype(add) : {type(add)} -> {add}\")"
   ]
  },
  {
   "cell_type": "markdown",
   "metadata": {},
   "source": [
    "**LOOK AT DECORATORS !!**"
   ]
  },
  {
   "cell_type": "markdown",
   "metadata": {},
   "source": [
    "## Object Oriented Concepts :"
   ]
  },
  {
   "cell_type": "markdown",
   "metadata": {},
   "source": [
    "### Advantages :"
   ]
  },
  {
   "cell_type": "markdown",
   "metadata": {},
   "source": [
    "1. Standardisation\n",
    "\n",
    "2. Solve complex problems in a simple way\n",
    "\n",
    "3. Pillars \n",
    "\n",
    "        a. Encapsulation \n",
    "\n",
    "        b. Inheritance \n",
    "                i. Single level \n",
    "                ii. Multi level \n",
    "                iii. Multiple \n",
    "                iv. Hierarchial \n",
    "                v. Hybrid \n",
    "\n",
    "        c. Data hiding using Access Specifiers \n",
    "\n",
    "        d. Multiple behaviour using polymorphism \n",
    "\n",
    "        e. Abstraction "
   ]
  },
  {
   "cell_type": "markdown",
   "metadata": {},
   "source": [
    "### Class :"
   ]
  },
  {
   "cell_type": "markdown",
   "metadata": {},
   "source": [
    "#### Class members ( Attributes ) :"
   ]
  },
  {
   "cell_type": "markdown",
   "metadata": {},
   "source": [
    "1. Variables\n",
    "\n",
    "        i. Class variables  \n",
    "\n",
    "                -> Associated with class name \n",
    "\n",
    "        ii. Instance variable \n",
    "\n",
    "                -> Associated with object \n",
    "                -> Can be declared in a special method called __init__() \n",
    "                \n",
    "\n",
    "2. Methods\n",
    "\n",
    "        i. User defined methods \n",
    "\n",
    "        ii. Special methods \n",
    "\n",
    "                -> __init__()   : \" Constructor\" in python "
   ]
  },
  {
   "cell_type": "markdown",
   "metadata": {},
   "source": [
    "#### Declaration :"
   ]
  },
  {
   "cell_type": "markdown",
   "metadata": {},
   "source": [
    "**class** *class_name* :\n",
    "    \n",
    "        .class members \n",
    "        .special method \n",
    "        .instance variables \n",
    "        .user defined method "
   ]
  },
  {
   "cell_type": "markdown",
   "metadata": {},
   "source": [
    "#### Selection of class or instance variable :"
   ]
  },
  {
   "cell_type": "markdown",
   "metadata": {},
   "source": [
    "    class variable -> if value of variable is common for all objects of class \n",
    "\n",
    "    instance variable -> value specific to object "
   ]
  },
  {
   "cell_type": "markdown",
   "metadata": {},
   "source": [
    "### Object :"
   ]
  },
  {
   "cell_type": "markdown",
   "metadata": {},
   "source": [
    "*Instance of class* "
   ]
  },
  {
   "cell_type": "markdown",
   "metadata": {},
   "source": [
    "### Encapsulation :"
   ]
  },
  {
   "cell_type": "markdown",
   "metadata": {},
   "source": [
    "*Binding data into class or object*"
   ]
  },
  {
   "cell_type": "markdown",
   "metadata": {},
   "source": [
    "### Inheritance :"
   ]
  },
  {
   "cell_type": "markdown",
   "metadata": {},
   "source": [
    "    ::::::::::::::::::::::::::::\n",
    "    :        class A           :  -> Base class\n",
    "    ;,,,,,,,,,,,,,,,,,,,,,,,,,,;\n",
    "    :        x = 10            :\n",
    "    :        y = 20            :\n",
    "    ;,,,,,,,,,,,,,,,,,,,,,,,,,,;\n",
    "    :         m1()             :\n",
    "    ;;;;;;;;;;;;;;;;;;;;;;;;;;;;\n",
    "    \n",
    "                .\n",
    "               / \\\n",
    "                |\n",
    "                |\n",
    "\n",
    "    ::::::::::::::::::::::::::::\n",
    "    :        class B           :  -> Sub class\n",
    "    ;,,,,,,,,,,,,,,,,,,,,,,,,,,;\n",
    "    :        a = 100           :\n",
    "    :        b = 200           :\n",
    "    ;,,,,,,,,,,,,,,,,,,,,,,,,,,;\n",
    "    :         m2()             :\n",
    "    ;;;;;;;;;;;;;;;;;;;;;;;;;;;;"
   ]
  },
  {
   "cell_type": "markdown",
   "metadata": {},
   "source": [
    "* Single inheritance \n",
    "    \n",
    "        a <- b  \n",
    "\n",
    "* Multi level inheritance \n",
    "    \n",
    "        a <- b <- c  \n",
    "\n",
    "* Multiple inheritance\n",
    "\n",
    "        a <- b -> c  \n",
    "\n",
    "* Hierarchial inheritance\n",
    "\n",
    "        a <- b\n",
    "          <- c"
   ]
  },
  {
   "cell_type": "markdown",
   "metadata": {},
   "source": [
    "### Code Snippets :"
   ]
  },
  {
   "cell_type": "markdown",
   "metadata": {},
   "source": [
    "**Classes :**"
   ]
  },
  {
   "cell_type": "code",
   "execution_count": 12,
   "metadata": {},
   "outputs": [
    {
     "name": "stdout",
     "output_type": "stream",
     "text": [
      "Class variables : \n",
      "myClass.x = 10\n",
      "myClass.y = 20\n",
      "\n",
      "Instance variables : \n",
      "A.x = 10\n",
      "A.y = 20\n",
      "\n",
      "A : \n",
      "a = 100\n",
      "b = 200\n",
      "\n",
      "type(A) : <class '__main__.myClass'>\n",
      "\n",
      "B : \n",
      "a = 1000\n",
      "b = 2000\n",
      "\n",
      "type(B) : <class '__main__.myClass'>\n",
      "\n",
      "A.info() : \n",
      "a = 100\n",
      "b = 200\n"
     ]
    }
   ],
   "source": [
    "class myClass:\n",
    "    # class variable\n",
    "    x = 10\n",
    "    y = 20\n",
    "\n",
    "    # instance variables \n",
    "    def __init__(self,a,b):\n",
    "        self.a = a\n",
    "        self.b = b\n",
    "\n",
    "    # special methods\n",
    "    def __str__(self):\n",
    "        return f\"a = {self.a}\\nb = {self.b}\"\n",
    "    \n",
    "    # user defined methods\n",
    "    def info(self):\n",
    "        print(f\"a = {self.a}\\nb = {self.b}\") \n",
    "\n",
    "print(\"Class variables : \")\n",
    "print(f\"myClass.x = {myClass.x}\\nmyClass.y = {myClass.y}\\n\")\n",
    "\n",
    "A = myClass(100,200)\n",
    "B = myClass(1000,2000)\n",
    "\n",
    "print(\"Instance variables : \")\n",
    "print(f\"A.x = {A.x}\\nA.y = {A.y}\\n\")\n",
    "\n",
    "print(f\"A : \\n{A}\\n\\ntype(A) : {type(A)}\\n\")\n",
    "print(f\"B : \\n{B}\\n\\ntype(B) : {type(B)}\\n\")\n",
    "\n",
    "print(\"A.info() : \")\n",
    "A.info()\n"
   ]
  },
  {
   "cell_type": "markdown",
   "metadata": {},
   "source": [
    "**Objects :**"
   ]
  },
  {
   "cell_type": "code",
   "execution_count": 18,
   "metadata": {},
   "outputs": [
    {
     "name": "stdout",
     "output_type": "stream",
     "text": [
      "Bank Name : ICICI - BTR branch\n",
      "Account Number : 1001\n",
      "Account Holder : R\n",
      "Balance : 1000\n",
      "\n",
      "Bank Name : ICICI - BTR branch\n",
      "Account Number : 1002\n",
      "Account Holder : S\n",
      "Balance : 2000\n"
     ]
    }
   ],
   "source": [
    "class acc:\n",
    "    bName = \"ICICI\"\n",
    "    branch = \"BTR\"\n",
    "\n",
    "    def __init__(self,accNo,accHolder,bal):\n",
    "        self.accNo = accNo\n",
    "        self.accHolder = accHolder\n",
    "        self.bal = bal\n",
    "\n",
    "    def __str__(self):\n",
    "        return f\"Bank Name : {self.bName} - {self.branch} branch\\nAccount Number : {self.accNo}\\nAccount Holder : {self.accHolder}\\nBalance : {self.bal}\"\n",
    "    \n",
    "\n",
    "A = acc(1001,\"R\",1000)\n",
    "B = acc(1002,\"S\",2000)\n",
    "\n",
    "print(A)\n",
    "print()\n",
    "print(B)"
   ]
  },
  {
   "cell_type": "markdown",
   "metadata": {},
   "source": [
    "**Inheritance :**"
   ]
  },
  {
   "cell_type": "code",
   "execution_count": 7,
   "metadata": {},
   "outputs": [
    {
     "name": "stdout",
     "output_type": "stream",
     "text": [
      "100\n",
      "200\n",
      "M1\n",
      "M2\n"
     ]
    }
   ],
   "source": [
    "class A:\n",
    "    def __init__(self):\n",
    "        self.a = 100\n",
    "        self.b = 200\n",
    "    def m1(self):\n",
    "        print(\"M1\")\n",
    "\n",
    "class B(A):\n",
    "    def __init__(self):\n",
    "        self.x = 101\n",
    "        self.y = 201\n",
    "        super().__init__()      # added to consider __init__() of super class\n",
    "    def m2(self):\n",
    "        print(\"M2\")\n",
    "\n",
    "b = B()\n",
    "\n",
    "print(b.a)\n",
    "print(b.b)\n",
    "b.m1()\n",
    "b.m2()"
   ]
  },
  {
   "cell_type": "markdown",
   "metadata": {},
   "source": [
    "**Multi level Inheritance :** "
   ]
  },
  {
   "cell_type": "code",
   "execution_count": 14,
   "metadata": {},
   "outputs": [
    {
     "name": "stdout",
     "output_type": "stream",
     "text": [
      "{'A': 10, 'B': 20, 'D': 40, 'C': 30, 'E': 50}\n"
     ]
    }
   ],
   "source": [
    "class a:\n",
    "    def __init__(self) -> None:\n",
    "        self.A = 10\n",
    "\n",
    "class b(a):\n",
    "    def __init__(self) -> None:\n",
    "        super().__init__()\n",
    "        self.B = 20\n",
    "\n",
    "class c(b):\n",
    "    def __init__(self) -> None:\n",
    "        super().__init__()\n",
    "        self.C = 30\n",
    "\n",
    "obj = c()\n",
    "print(obj.__dict__)"
   ]
  },
  {
   "cell_type": "markdown",
   "metadata": {},
   "source": [
    "**Multiple Inheritance :**"
   ]
  },
  {
   "cell_type": "code",
   "execution_count": 20,
   "metadata": {},
   "outputs": [
    {
     "name": "stdout",
     "output_type": "stream",
     "text": [
      "{'A': 10, 'B': 20, 'C': 30}\n"
     ]
    }
   ],
   "source": [
    "class a:\n",
    "    def __init__(self) -> None:\n",
    "        self.A = 10\n",
    "\n",
    "class b:\n",
    "    def __init__(self) -> None:\n",
    "        super().__init__()\n",
    "        self.B = 20\n",
    "\n",
    "class c(a,b):\n",
    "    def __init__(self) -> None:\n",
    "        a.__init__(self)\n",
    "        b.__init__(self)\n",
    "        self.C = 30\n",
    "\n",
    "obj = c()\n",
    "print(obj.__dict__)"
   ]
  },
  {
   "cell_type": "markdown",
   "metadata": {},
   "source": [
    "**Heirarchial Interitance :**"
   ]
  },
  {
   "cell_type": "code",
   "execution_count": 21,
   "metadata": {},
   "outputs": [
    {
     "name": "stdout",
     "output_type": "stream",
     "text": [
      "{'name': 'Ravi', 'age': 21, 'gender': 'Male', 'usn': '4VP21AI043', 'marks': 100, 'grade': 9.5}\n",
      "{'name': 'Ram', 'age': 30, 'gender': 'Male', 'empID': 123, 'designation': 'Manager', 'salary': 10000}\n"
     ]
    }
   ],
   "source": [
    "class person:\n",
    "    def __init__(self,name,age,gender) -> None:\n",
    "        self.name = name\n",
    "        self.age = age\n",
    "        self.gender = gender\n",
    "\n",
    "class student(person):\n",
    "    def __init__(self, name, age, gender, usn, marks, grade) -> None:\n",
    "        super().__init__(name, age, gender)\n",
    "        self.usn = usn\n",
    "        self.marks = marks\n",
    "        self.grade = grade\n",
    "\n",
    "class employee(person):\n",
    "    def __init__(self, name, age, gender, empId, designation, salary ) -> None:\n",
    "        super().__init__(name, age, gender)\n",
    "        self.empID = empId\n",
    "        self.designation = designation\n",
    "        self.salary = salary\n",
    "\n",
    "s = student(\"Ravi\", 21, \"Male\", \"4VP21AI043\", 100, 9.5)\n",
    "e = employee(\"Ram\", 30, \"Male\", 123, \"Manager\", 10000)\n",
    "\n",
    "print(s.__dict__)\n",
    "print(e.__dict__)"
   ]
  },
  {
   "cell_type": "markdown",
   "metadata": {},
   "source": [
    "### Exercise"
   ]
  },
  {
   "cell_type": "markdown",
   "metadata": {},
   "source": [
    "* create class -> myDict\n",
    "* if obj is created -> create an empty dict automatically\n",
    "* class must contain methods -> addItems(), updateItems(), removeItems() & displayItems()\n",
    "* do not use any inbuilt methods of dict"
   ]
  },
  {
   "cell_type": "code",
   "execution_count": 35,
   "metadata": {},
   "outputs": [
    {
     "name": "stdout",
     "output_type": "stream",
     "text": [
      "1 \t:\t 2\n",
      "2 \t:\t 3\n",
      "\n",
      "1 \t:\t 2\n",
      "2 \t:\t 4\n",
      "3 \t:\t 5\n",
      "\n",
      "2 \t:\t 4\n",
      "3 \t:\t 5\n"
     ]
    }
   ],
   "source": [
    "class myDict:\n",
    "    def __init__(self) -> None:\n",
    "        self.dict = {} \n",
    "\n",
    "    def addItems(self,key,value):\n",
    "        if key in self.dict.keys() : return\n",
    "        self.dict[key] = value\n",
    "\n",
    "    def updateItems(self, key, newVal):\n",
    "        if key in self.dict.keys() : self.dict[key] = newVal\n",
    "        else : self.addItems(key,newVal)\n",
    "\n",
    "    def removeItems(self, key):\n",
    "        if key in self.dict.keys() : del self.dict[key]\n",
    "    def displayItems(self):\n",
    "        for i in self.dict:\n",
    "            print(i,\"\\t:\\t\",self.dict[i])\n",
    "\n",
    "d = myDict()\n",
    "\n",
    "d.addItems(1,2)\n",
    "d.addItems(2,3)\n",
    "d.addItems(2,4)\n",
    "d.displayItems()\n",
    "print()\n",
    "d.updateItems(2,4)\n",
    "d.updateItems(3,5)\n",
    "d.displayItems()\n",
    "print()\n",
    "d.removeItems(1)\n",
    "d.displayItems()"
   ]
  },
  {
   "cell_type": "markdown",
   "metadata": {},
   "source": [
    "* create a class audDevice\n",
    "* variables : deviceName, deviceVersion\n",
    "* audDevice -> device class\n",
    "* variables : address, name\n",
    "* methods : on, off\n",
    "\n",
    "* create a classes microphone, speaker\n",
    "* two classes inherit properties from audio device class\n",
    "\n",
    "* microphone should contain var : type , method : startRec, stopRec\n",
    "* speaker should contain var : type , name & curVolume , method : increaseVolume, decreaseVolume & curVolume"
   ]
  },
  {
   "cell_type": "code",
   "execution_count": 24,
   "metadata": {},
   "outputs": [],
   "source": [
    "class device:\n",
    "    def __init__(self,address, deviceName) -> None:\n",
    "        self.address = address\n",
    "        self.deviceName = deviceName\n",
    "        self.state = False\n",
    "\n",
    "    def on(self):\n",
    "        self.state = True\n",
    "        print(\"Device turned ON !!\")\n",
    "\n",
    "    def off(self):\n",
    "        self.state = False\n",
    "        print(\"Device turned OFF !!\")\n",
    "\n",
    "    def __str__(self):\n",
    "        return f\"Device {self.name} ver. {self.deviceVersion} is {'ON' if self.state else 'OFF'}\"\n",
    "\n",
    "class audDevice(device):\n",
    "    def __init__(self,address,deviceName, deviceVersion) -> None:\n",
    "        super().__init__(address,deviceName)\n",
    "        self.deviceVersion = deviceVersion\n",
    "\n",
    "    def __str__(self):\n",
    "        return f\"Device {self.deviceName} ver. {self.deviceVersion} is {'ON' if self.state else 'OFF'}\"\n",
    "\n",
    "class microphone(audDevice):\n",
    "    def __init__(self,address,deviceName,deviceVersion,type) -> None:\n",
    "        super().__init__(address,deviceName,deviceVersion)\n",
    "        self.type = type\n",
    "        self.recordingState = False\n",
    "\n",
    "    def startRecording(self):\n",
    "        if not self.state : self.state = True\n",
    "        self.recordingState = True\n",
    "        print(\"Recording started !!\")\n",
    "\n",
    "    def stopRecording(self):\n",
    "        self.recordingState = False\n",
    "        print(\"Recording stopped !!\")\n",
    "\n",
    "    def __str__(self):\n",
    "        if self.state == False : self.recordingState = False\n",
    "        return f\"Device {self.deviceName} ver. {self.deviceVersion} is {'ON' if self.state else 'OFF'}\\nRecording is {'ON' if self.recordingState else 'OFF'}\"\n",
    "    \n",
    "class speaker(audDevice):\n",
    "    def __init__(self, address, deviceName, deviceVersion,type) -> None:\n",
    "        super().__init__(address, deviceName, deviceVersion)\n",
    "        self.type = type\n",
    "        self.curVolume = 0\n",
    "\n",
    "    def increaseVolume(self,value):\n",
    "        if self.curVolume<100: self.curVolume += value\n",
    "        if self.curVolume > 100 : self.curVolume = 100\n",
    "        print(f\"Current Volume : {self.curVolume}\")\n",
    "\n",
    "    def decreaseVolume(self,value):\n",
    "        if self.curVolume > 0 : self.curVolume -= value\n",
    "        if self.curVolume < 0 : self.curVolume = 0\n",
    "        print(f\"Current Volume : {self.curVolume}\")\n",
    "\n",
    "    def getCurVolume(self):\n",
    "        print(f\"Current Volume : {self.curVolume}\")\n",
    "\n",
    "    def __str__(self):\n",
    "        return f\"Device {self.deviceName} ver. {self.deviceVersion} is {'ON' if self.state else 'OFF'}\\nCurrent Volume : {self.curVolume}\""
   ]
  },
  {
   "cell_type": "code",
   "execution_count": 25,
   "metadata": {},
   "outputs": [
    {
     "name": "stdout",
     "output_type": "stream",
     "text": [
      "Device myMic ver. 0.2.3 is OFF\n",
      "Recording is OFF\n",
      "\n",
      "Device turned ON !!\n",
      "Recording started !!\n",
      "Recording stopped !!\n",
      "Device turned OFF !!\n",
      "\n",
      "Device mySpeaker ver. 1.3.2 is OFF\n",
      "Current Volume : 0\n",
      "\n",
      "Device turned ON !!\n",
      "Current Volume : 0\n",
      "Current Volume : 100\n",
      "Current Volume : 80\n",
      "Device turned OFF !!\n"
     ]
    }
   ],
   "source": [
    "m = microphone('VCET', 'myMic','0.2.3','Standing mic')\n",
    "s = speaker('VCET', 'mySpeaker', '1.3.2', 'High Definition')\n",
    "\n",
    "print(m)\n",
    "print()\n",
    "\n",
    "m.on()\n",
    "m.startRecording()\n",
    "m.stopRecording()\n",
    "m.off()\n",
    "print()\n",
    "\n",
    "print(s)\n",
    "print()\n",
    "\n",
    "s.on()\n",
    "s.getCurVolume()\n",
    "s.increaseVolume(200)\n",
    "s.decreaseVolume(20)\n",
    "s.off()"
   ]
  },
  {
   "cell_type": "markdown",
   "metadata": {},
   "source": [
    "# NEXT"
   ]
  }
 ],
 "metadata": {
  "kernelspec": {
   "display_name": "base",
   "language": "python",
   "name": "python3"
  },
  "language_info": {
   "codemirror_mode": {
    "name": "ipython",
    "version": 3
   },
   "file_extension": ".py",
   "mimetype": "text/x-python",
   "name": "python",
   "nbconvert_exporter": "python",
   "pygments_lexer": "ipython3",
   "version": "3.10.9"
  }
 },
 "nbformat": 4,
 "nbformat_minor": 2
}
