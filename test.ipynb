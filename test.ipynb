{
 "cells": [
  {
   "cell_type": "markdown",
   "metadata": {},
   "source": [
    "# About"
   ]
  },
  {
   "cell_type": "markdown",
   "metadata": {},
   "source": [
    "Mentor : **Rahul**\n",
    "\n",
    "Topics : \n",
    "\n",
    "    1. Python Basics"
   ]
  },
  {
   "cell_type": "markdown",
   "metadata": {},
   "source": [
    "# 24.06.2024"
   ]
  },
  {
   "cell_type": "markdown",
   "metadata": {},
   "source": [
    "## Datatypes :"
   ]
  },
  {
   "cell_type": "markdown",
   "metadata": {},
   "source": [
    "1. Numeric\n",
    "        \n",
    "        i. int\n",
    "        ii. float\n",
    "        iii. complex\n",
    "\n",
    "2. String\n",
    "\n",
    "3. Boolean"
   ]
  },
  {
   "cell_type": "markdown",
   "metadata": {},
   "source": [
    "### Datatypes as classes"
   ]
  },
  {
   "cell_type": "code",
   "execution_count": 21,
   "metadata": {},
   "outputs": [
    {
     "name": "stdout",
     "output_type": "stream",
     "text": [
      "<class 'int'>\n"
     ]
    }
   ],
   "source": [
    "x = 10\n",
    "print(type(x))"
   ]
  },
  {
   "cell_type": "markdown",
   "metadata": {},
   "source": [
    "*Observe the word class printed!!*"
   ]
  },
  {
   "cell_type": "markdown",
   "metadata": {},
   "source": [
    "## Identifiers :"
   ]
  },
  {
   "cell_type": "markdown",
   "metadata": {},
   "source": [
    "### Rules of naming identifiers :"
   ]
  },
  {
   "cell_type": "markdown",
   "metadata": {},
   "source": [
    "        1. Must be alphanumeric\n",
    "        2. Shouldnt start with numbers\n",
    "        3. _ is the only special character allowed\n",
    "        4. No whiteSpaces allowed"
   ]
  },
  {
   "cell_type": "markdown",
   "metadata": {},
   "source": [
    "### Code Snippets : "
   ]
  },
  {
   "cell_type": "code",
   "execution_count": 22,
   "metadata": {},
   "outputs": [
    {
     "ename": "SyntaxError",
     "evalue": "invalid decimal literal (1555758849.py, line 1)",
     "output_type": "error",
     "traceback": [
      "\u001b[0;36m  Cell \u001b[0;32mIn[22], line 1\u001b[0;36m\u001b[0m\n\u001b[0;31m    123xyz = 10\u001b[0m\n\u001b[0m      ^\u001b[0m\n\u001b[0;31mSyntaxError\u001b[0m\u001b[0;31m:\u001b[0m invalid decimal literal\n"
     ]
    }
   ],
   "source": [
    "123xyz = 10"
   ]
  },
  {
   "cell_type": "code",
   "execution_count": null,
   "metadata": {},
   "outputs": [
    {
     "name": "stdout",
     "output_type": "stream",
     "text": [
      "type of 10 is <class 'int'>\n"
     ]
    }
   ],
   "source": [
    "_ = 10\n",
    "print(f\"type of {_} is {type(_)}\")"
   ]
  },
  {
   "cell_type": "markdown",
   "metadata": {},
   "source": [
    "## Keywords :"
   ]
  },
  {
   "cell_type": "markdown",
   "metadata": {},
   "source": [
    "1. break\n",
    "\n",
    "2. while\n",
    "\n",
    "3. True\n",
    "\n",
    "4. False"
   ]
  },
  {
   "cell_type": "markdown",
   "metadata": {},
   "source": [
    "## Operators :"
   ]
  },
  {
   "cell_type": "markdown",
   "metadata": {},
   "source": [
    "### Based on operands"
   ]
  },
  {
   "cell_type": "markdown",
   "metadata": {},
   "source": [
    "1. Unary\n",
    "\n",
    "2. Binary"
   ]
  },
  {
   "cell_type": "markdown",
   "metadata": {},
   "source": [
    "### Based on operation"
   ]
  },
  {
   "cell_type": "markdown",
   "metadata": {},
   "source": [
    "1. Arithmatic\n",
    "\n",
    "        i. +\n",
    "        ii. - \n",
    "        iii. *\n",
    "        iv. /\n",
    "        v. %\n",
    "        vi. //          -> Floor division operator\n",
    "        vii. **         -> Exponential operator\n",
    "\n",
    "2. Logical\n",
    "\n",
    "        i. and\n",
    "        ii. or\n",
    "        iii. not\n",
    "\n",
    "        a       b       a and b         a or b          not a\n",
    "        0       0       0               0               1\n",
    "        0       1       0               1               1\n",
    "        1       0       0               1               0\n",
    "        1       1       1               1               0\n",
    "\n",
    "3. Relational\n",
    "\n",
    "        i. <\n",
    "        ii. >\n",
    "        iii. <=\n",
    "        iv. >=\n",
    "        v. != \n",
    "        vi. ==\n",
    "\n",
    "4. Bitwise\n",
    "\n",
    "        i. &\n",
    "        ii. !\n",
    "        iii. ^\n",
    "        iv. <<\n",
    "        v. >>\n",
    "\n",
    "5. Assignment\n",
    "\n",
    "        i. ="
   ]
  },
  {
   "cell_type": "markdown",
   "metadata": {},
   "source": [
    "### Special operators"
   ]
  },
  {
   "cell_type": "markdown",
   "metadata": {},
   "source": [
    "1. Identity\n",
    "\n",
    "        i. is\n",
    "        ii. is not\n",
    "\n",
    "2. Membership\n",
    "\n",
    "        i. in\n",
    "        ii. not in\n",
    "\n",
    "3. Slicing\n",
    "\n",
    "        i. :\n",
    "\n",
    "4. Dot\n",
    "\n",
    "        i. ."
   ]
  },
  {
   "cell_type": "markdown",
   "metadata": {},
   "source": [
    "### Code Snippets :"
   ]
  },
  {
   "cell_type": "markdown",
   "metadata": {},
   "source": [
    "*Illustration of precedence :*"
   ]
  },
  {
   "cell_type": "code",
   "execution_count": 23,
   "metadata": {},
   "outputs": [
    {
     "name": "stdout",
     "output_type": "stream",
     "text": [
      "3\n"
     ]
    }
   ],
   "source": [
    "a = 1\n",
    "b = 3\n",
    "\n",
    "print(b*a**b)"
   ]
  },
  {
   "cell_type": "markdown",
   "metadata": {},
   "source": [
    "## Collections :"
   ]
  },
  {
   "cell_type": "markdown",
   "metadata": {},
   "source": [
    "*Group of data items enclosed within specific bounds*"
   ]
  },
  {
   "cell_type": "markdown",
   "metadata": {},
   "source": [
    "1. List [ ]\n",
    "\n",
    "        i. Stores homogenous and heterogenous data\n",
    "        ii. Accepts duplicate data\n",
    "        iii. Indexed collection\n",
    "        iv. Supports slicing\n",
    "        v. Mutable\n",
    "        vi. Iterable\n",
    "        vii. 11 inbuilt methods\n",
    "\n",
    "2. Tuples ( )\n",
    "\n",
    "        i. Stores homogenous and heterogenous data\n",
    "        ii. Accepts duplicate data\n",
    "        iii. Indexed collection\n",
    "        iv. Supports slicing\n",
    "        v. Immutable\n",
    "        vi. Iterable\n",
    "        vii. 2 inbuilt methods\n",
    "\n",
    "3. Set { }\n",
    "\n",
    "        i. Stores homogenous and heterogenous data\n",
    "        ii. Doesnt accept duplicate data\n",
    "        iii. Random ordered collection\n",
    "        iv. Doesnt supports slicing\n",
    "        v. Mutable\n",
    "        vi. Iterable\n",
    "        vii. 17 inbuilt methods\n",
    "\n",
    "4. Dictionary { key : value }\n",
    "\n",
    "        i. Stores homogenous and heterogenous data\n",
    "        ii. Accepts duplicate values, key must unique\n",
    "        iii. Random ordered collection\n",
    "        iv. Doesnt supports slicing\n",
    "        v. Mutable\n",
    "        vi. Iterable\n",
    "        vii. 11 inbuilt methods\n",
    "\n",
    "5. String \n",
    "    \n",
    "        a. \" \"\n",
    "        b. ' ' \n",
    "        c. \"\"\" \"\"\"\n",
    "\n",
    "        i. Stores homogenous and heterogenous data\n",
    "        ii. Accepts duplicate values, key must unique\n",
    "        iii. Indexed collection\n",
    "        iv. Supports slicing\n",
    "        v. Immutable                                    -> Use replace() to make it mutable\n",
    "        vi. Iterable\n",
    "        vii. 47 inbuilt methods"
   ]
  },
  {
   "cell_type": "markdown",
   "metadata": {},
   "source": [
    "### Code Snippets : "
   ]
  },
  {
   "cell_type": "code",
   "execution_count": null,
   "metadata": {},
   "outputs": [],
   "source": [
    "lst = [1,2,'R',1]\n",
    "tup = (1,2,'R',1)\n",
    "seT = {1,2,'R',1}\n",
    "\n",
    "dicT = {1 : 2, 'name' : 'R', 3 : 2}\n",
    "\n",
    "string = \"12R\""
   ]
  },
  {
   "cell_type": "code",
   "execution_count": null,
   "metadata": {},
   "outputs": [
    {
     "name": "stdout",
     "output_type": "stream",
     "text": [
      "1\n",
      "2\n",
      "R\n"
     ]
    }
   ],
   "source": [
    "for i in seT:\n",
    "    print(i)"
   ]
  },
  {
   "cell_type": "markdown",
   "metadata": {},
   "source": [
    "## Control Statements :"
   ]
  },
  {
   "cell_type": "markdown",
   "metadata": {},
   "source": [
    "*Statements used to control the flow of execution*"
   ]
  },
  {
   "cell_type": "markdown",
   "metadata": {},
   "source": [
    "### Branching Statement :"
   ]
  },
  {
   "cell_type": "markdown",
   "metadata": {},
   "source": [
    "1. if\n",
    "\n",
    "2. else\n",
    "\n",
    "3. elif\n",
    "\n",
    "4. elif ladder\n",
    "\n",
    "5. nested if\n",
    "\n",
    "6. match case (py ver > 3.2)"
   ]
  },
  {
   "cell_type": "markdown",
   "metadata": {},
   "source": [
    "### Looping Statements :"
   ]
  },
  {
   "cell_type": "markdown",
   "metadata": {},
   "source": [
    "1. for \n",
    "\n",
    "2. while"
   ]
  },
  {
   "cell_type": "markdown",
   "metadata": {},
   "source": [
    "### Code snippet"
   ]
  },
  {
   "cell_type": "markdown",
   "metadata": {},
   "source": [
    "    for : num -> 10,11,12,13\n",
    "\n",
    "    .for : i -> 2, ... num-1\n",
    "\n",
    "        10,3 : 10 break\n",
    "        11,3 : 11 break\n",
    "        12,3 : 12 break\n",
    "        13,3 : 13 break\n",
    "\n",
    "    out : 10,11,12,13"
   ]
  },
  {
   "cell_type": "code",
   "execution_count": null,
   "metadata": {},
   "outputs": [
    {
     "name": "stdout",
     "output_type": "stream",
     "text": [
      "10\n",
      "11\n",
      "12\n",
      "13\n"
     ]
    }
   ],
   "source": [
    "for num in range(10,14):\n",
    "    for i in range(2,num):\n",
    "        if i%2 == 1: \n",
    "            print(num)\n",
    "            break"
   ]
  },
  {
   "cell_type": "code",
   "execution_count": 32,
   "metadata": {},
   "outputs": [
    {
     "name": "stdout",
     "output_type": "stream",
     "text": [
      "Hello\n"
     ]
    }
   ],
   "source": [
    "x = -11\n",
    "if x : print(\"Hello\")\n",
    "else : print(\"Hi\")      # executed if x = 0, False, None"
   ]
  },
  {
   "cell_type": "markdown",
   "metadata": {},
   "source": [
    "## Methods :"
   ]
  },
  {
   "cell_type": "markdown",
   "metadata": {},
   "source": [
    "*Block of code executing a particular task*"
   ]
  },
  {
   "cell_type": "markdown",
   "metadata": {},
   "source": [
    "### Syntax :"
   ]
  },
  {
   "cell_type": "markdown",
   "metadata": {},
   "source": [
    "**def** *function_name* ( *arg* ) -> *return_type* :\n",
    "\n",
    "        stmt1\n",
    "        stmt2"
   ]
  },
  {
   "cell_type": "markdown",
   "metadata": {},
   "source": [
    "### Parts :"
   ]
  },
  {
   "cell_type": "markdown",
   "metadata": {},
   "source": [
    "1. Function header / defintion\n",
    "\n",
    "2. Function body\n",
    "\n",
    "3. Function calling"
   ]
  },
  {
   "cell_type": "markdown",
   "metadata": {},
   "source": [
    "### Types : "
   ]
  },
  {
   "cell_type": "markdown",
   "metadata": {},
   "source": [
    "1. User defined\n",
    "\n",
    "2. Built in\n",
    "\n",
    "3. Lambda/ Anonymous\n",
    "\n",
    "4. Miscellaneous\n",
    "\n",
    "        . Giving aliasing name for existing function \n",
    "        \n",
    "        . def sum():\n",
    "        .       print(\"Sum\")\n",
    "        . sum()                 -> Sum\n",
    "        . add = sum             -> add is misc. function\n",
    "        . add()                 -> Sum\n",
    "\n",
    "5. Nested\n",
    "\n",
    "6. Function calling another function\n",
    "\n",
    "7. Function name passing as a parameter to another function"
   ]
  },
  {
   "cell_type": "markdown",
   "metadata": {},
   "source": [
    "### Code Snippet :"
   ]
  },
  {
   "cell_type": "code",
   "execution_count": 37,
   "metadata": {},
   "outputs": [
    {
     "name": "stdout",
     "output_type": "stream",
     "text": [
      "Sum\n",
      "Sum\n",
      "type(sum) : <class 'function'> -> <function sum at 0x1105c6560>\n",
      "type(add) : <class 'function'> -> <function sum at 0x1105c6560>\n"
     ]
    }
   ],
   "source": [
    "def sum():\n",
    "    print(\"Sum\")\n",
    "\n",
    "sum()\n",
    "add = sum\n",
    "add()\n",
    "\n",
    "print(f\"type(sum) : {type(sum)} -> {sum}\\ntype(add) : {type(add)} -> {add}\")"
   ]
  },
  {
   "cell_type": "markdown",
   "metadata": {},
   "source": [
    "**LOOK AT DECORATORS !!**"
   ]
  },
  {
   "cell_type": "markdown",
   "metadata": {},
   "source": [
    "# NEXT"
   ]
  }
 ],
 "metadata": {
  "kernelspec": {
   "display_name": "base",
   "language": "python",
   "name": "python3"
  },
  "language_info": {
   "codemirror_mode": {
    "name": "ipython",
    "version": 3
   },
   "file_extension": ".py",
   "mimetype": "text/x-python",
   "name": "python",
   "nbconvert_exporter": "python",
   "pygments_lexer": "ipython3",
   "version": "3.10.9"
  }
 },
 "nbformat": 4,
 "nbformat_minor": 2
}
