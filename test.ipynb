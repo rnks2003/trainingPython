{
 "cells": [
  {
   "cell_type": "markdown",
   "metadata": {},
   "source": [
    "# About"
   ]
  },
  {
   "cell_type": "markdown",
   "metadata": {},
   "source": [
    "Mentor : **Rahul Raj**\n",
    "\n",
    "Days : 24,25,27 . 06 . 24\n",
    "\n",
    "Topics : \n",
    "\n",
    "    1. Python Basics\n",
    "    2. Data structures Basic\n",
    "    3. SQL Basic\n",
    "    4. Searching, Sorting\n",
    "    5. Recursion\n",
    "\n",
    "Mentor : **Pramod**\n",
    "\n",
    "Days : 26 . 06 . 24\n",
    "\n",
    "Topics :\n",
    "\n",
    "    1. DBMS Basics\n",
    "    2. SQL"
   ]
  },
  {
   "cell_type": "markdown",
   "metadata": {},
   "source": [
    "# 24.06.2024"
   ]
  },
  {
   "cell_type": "markdown",
   "metadata": {},
   "source": [
    "## Datatypes :"
   ]
  },
  {
   "cell_type": "markdown",
   "metadata": {},
   "source": [
    "1. Numeric\n",
    "        \n",
    "        i. int\n",
    "        ii. float\n",
    "        iii. complex\n",
    "\n",
    "2. String\n",
    "\n",
    "3. Boolean"
   ]
  },
  {
   "cell_type": "markdown",
   "metadata": {},
   "source": [
    "### Datatypes as classes"
   ]
  },
  {
   "cell_type": "code",
   "execution_count": 51,
   "metadata": {},
   "outputs": [
    {
     "name": "stdout",
     "output_type": "stream",
     "text": [
      "<class 'int'>\n"
     ]
    }
   ],
   "source": [
    "x = 10\n",
    "print(type(x))"
   ]
  },
  {
   "cell_type": "markdown",
   "metadata": {},
   "source": [
    "*Observe the word class printed!!*"
   ]
  },
  {
   "cell_type": "markdown",
   "metadata": {},
   "source": [
    "## Identifiers :"
   ]
  },
  {
   "cell_type": "markdown",
   "metadata": {},
   "source": [
    "### Rules of naming identifiers :"
   ]
  },
  {
   "cell_type": "markdown",
   "metadata": {},
   "source": [
    "        1. Must be alphanumeric\n",
    "        2. Shouldnt start with numbers\n",
    "        3. _ is the only special character allowed\n",
    "        4. No whiteSpaces allowed"
   ]
  },
  {
   "cell_type": "markdown",
   "metadata": {},
   "source": [
    "### Code Snippets : "
   ]
  },
  {
   "cell_type": "code",
   "execution_count": 52,
   "metadata": {},
   "outputs": [
    {
     "ename": "SyntaxError",
     "evalue": "invalid decimal literal (1555758849.py, line 1)",
     "output_type": "error",
     "traceback": [
      "\u001b[0;36m  Cell \u001b[0;32mIn[52], line 1\u001b[0;36m\u001b[0m\n\u001b[0;31m    123xyz = 10\u001b[0m\n\u001b[0m      ^\u001b[0m\n\u001b[0;31mSyntaxError\u001b[0m\u001b[0;31m:\u001b[0m invalid decimal literal\n"
     ]
    }
   ],
   "source": [
    "123xyz = 10"
   ]
  },
  {
   "cell_type": "code",
   "execution_count": null,
   "metadata": {},
   "outputs": [
    {
     "name": "stdout",
     "output_type": "stream",
     "text": [
      "type of 10 is <class 'int'>\n"
     ]
    }
   ],
   "source": [
    "_ = 10\n",
    "print(f\"type of {_} is {type(_)}\")"
   ]
  },
  {
   "cell_type": "markdown",
   "metadata": {},
   "source": [
    "## Keywords :"
   ]
  },
  {
   "cell_type": "markdown",
   "metadata": {},
   "source": [
    "1. break\n",
    "\n",
    "2. while\n",
    "\n",
    "3. True\n",
    "\n",
    "4. False\n",
    "\n",
    "5. pass"
   ]
  },
  {
   "cell_type": "markdown",
   "metadata": {},
   "source": [
    "## Operators :"
   ]
  },
  {
   "cell_type": "markdown",
   "metadata": {},
   "source": [
    "### Based on operands"
   ]
  },
  {
   "cell_type": "markdown",
   "metadata": {},
   "source": [
    "1. Unary\n",
    "\n",
    "2. Binary"
   ]
  },
  {
   "cell_type": "markdown",
   "metadata": {},
   "source": [
    "### Based on operation"
   ]
  },
  {
   "cell_type": "markdown",
   "metadata": {},
   "source": [
    "1. Arithmatic\n",
    "\n",
    "        i. +\n",
    "        ii. - \n",
    "        iii. *\n",
    "        iv. /\n",
    "        v. %\n",
    "        vi. //          -> Floor division operator\n",
    "        vii. **         -> Exponential operator\n",
    "\n",
    "2. Logical\n",
    "\n",
    "        i. and\n",
    "        ii. or\n",
    "        iii. not\n",
    "\n",
    "        a       b       a and b         a or b          not a\n",
    "        0       0       0               0               1\n",
    "        0       1       0               1               1\n",
    "        1       0       0               1               0\n",
    "        1       1       1               1               0\n",
    "\n",
    "3. Relational\n",
    "\n",
    "        i. <\n",
    "        ii. >\n",
    "        iii. <=\n",
    "        iv. >=\n",
    "        v. != \n",
    "        vi. ==\n",
    "\n",
    "4. Bitwise\n",
    "\n",
    "        i. &\n",
    "        ii. !\n",
    "        iii. ^\n",
    "        iv. <<\n",
    "        v. >>\n",
    "\n",
    "5. Assignment\n",
    "\n",
    "        i. ="
   ]
  },
  {
   "cell_type": "markdown",
   "metadata": {},
   "source": [
    "### Special operators"
   ]
  },
  {
   "cell_type": "markdown",
   "metadata": {},
   "source": [
    "1. Identity\n",
    "\n",
    "        i. is\n",
    "        ii. is not\n",
    "\n",
    "2. Membership\n",
    "\n",
    "        i. in\n",
    "        ii. not in\n",
    "\n",
    "3. Slicing\n",
    "\n",
    "        i. :\n",
    "\n",
    "4. Dot\n",
    "\n",
    "        i. ."
   ]
  },
  {
   "cell_type": "markdown",
   "metadata": {},
   "source": [
    "### Code Snippets :"
   ]
  },
  {
   "cell_type": "markdown",
   "metadata": {},
   "source": [
    "*Illustration of precedence :*"
   ]
  },
  {
   "cell_type": "code",
   "execution_count": null,
   "metadata": {},
   "outputs": [
    {
     "name": "stdout",
     "output_type": "stream",
     "text": [
      "3\n"
     ]
    }
   ],
   "source": [
    "a = 1\n",
    "b = 3\n",
    "\n",
    "print(b*a**b)"
   ]
  },
  {
   "cell_type": "markdown",
   "metadata": {},
   "source": [
    "## Collections :"
   ]
  },
  {
   "cell_type": "markdown",
   "metadata": {},
   "source": [
    "*Group of data items enclosed within specific bounds*"
   ]
  },
  {
   "cell_type": "markdown",
   "metadata": {},
   "source": [
    "1. List [ ]\n",
    "\n",
    "        i. Stores homogenous and heterogenous data\n",
    "        ii. Accepts duplicate data\n",
    "        iii. Indexed collection\n",
    "        iv. Supports slicing\n",
    "        v. Mutable\n",
    "        vi. Iterable\n",
    "        vii. 11 inbuilt methods\n",
    "\n",
    "2. Tuples ( )\n",
    "\n",
    "        i. Stores homogenous and heterogenous data\n",
    "        ii. Accepts duplicate data\n",
    "        iii. Indexed collection\n",
    "        iv. Supports slicing\n",
    "        v. Immutable\n",
    "        vi. Iterable\n",
    "        vii. 2 inbuilt methods\n",
    "\n",
    "3. Set { }\n",
    "\n",
    "        i. Stores homogenous and heterogenous data\n",
    "        ii. Doesnt accept duplicate data\n",
    "        iii. Random ordered collection\n",
    "        iv. Doesnt supports slicing\n",
    "        v. Mutable\n",
    "        vi. Iterable\n",
    "        vii. 17 inbuilt methods\n",
    "\n",
    "4. Dictionary { key : value }\n",
    "\n",
    "        i. Stores homogenous and heterogenous data\n",
    "        ii. Accepts duplicate values, key must unique\n",
    "        iii. Random ordered collection\n",
    "        iv. Doesnt supports slicing\n",
    "        v. Mutable\n",
    "        vi. Iterable\n",
    "        vii. 11 inbuilt methods\n",
    "\n",
    "5. String \n",
    "    \n",
    "        a. \" \"\n",
    "        b. ' ' \n",
    "        c. \"\"\" \"\"\"\n",
    "\n",
    "        i. Stores homogenous and heterogenous data\n",
    "        ii. Accepts duplicate values, key must unique\n",
    "        iii. Indexed collection\n",
    "        iv. Supports slicing\n",
    "        v. Immutable                                    -> Use replace() to make it mutable\n",
    "        vi. Iterable\n",
    "        vii. 47 inbuilt methods"
   ]
  },
  {
   "cell_type": "markdown",
   "metadata": {},
   "source": [
    "### Code Snippets : "
   ]
  },
  {
   "cell_type": "code",
   "execution_count": null,
   "metadata": {},
   "outputs": [],
   "source": [
    "lst = [1,2,'R',1]\n",
    "tup = (1,2,'R',1)\n",
    "seT = {1,2,'R',1}\n",
    "\n",
    "dicT = {1 : 2, 'name' : 'R', 3 : 2}\n",
    "\n",
    "string = \"12R\""
   ]
  },
  {
   "cell_type": "code",
   "execution_count": null,
   "metadata": {},
   "outputs": [
    {
     "name": "stdout",
     "output_type": "stream",
     "text": [
      "1\n",
      "2\n",
      "R\n"
     ]
    }
   ],
   "source": [
    "for i in seT:\n",
    "    print(i)"
   ]
  },
  {
   "cell_type": "markdown",
   "metadata": {},
   "source": [
    "## Control Statements :"
   ]
  },
  {
   "cell_type": "markdown",
   "metadata": {},
   "source": [
    "*Statements used to control the flow of execution*"
   ]
  },
  {
   "cell_type": "markdown",
   "metadata": {},
   "source": [
    "### Branching Statement :"
   ]
  },
  {
   "cell_type": "markdown",
   "metadata": {},
   "source": [
    "1. if\n",
    "\n",
    "2. else\n",
    "\n",
    "3. elif\n",
    "\n",
    "4. elif ladder\n",
    "\n",
    "5. nested if\n",
    "\n",
    "6. match case (py ver > 3.2)"
   ]
  },
  {
   "cell_type": "markdown",
   "metadata": {},
   "source": [
    "### Looping Statements :"
   ]
  },
  {
   "cell_type": "markdown",
   "metadata": {},
   "source": [
    "1. for \n",
    "\n",
    "2. while"
   ]
  },
  {
   "cell_type": "markdown",
   "metadata": {},
   "source": [
    "### Code snippet"
   ]
  },
  {
   "cell_type": "markdown",
   "metadata": {},
   "source": [
    "    for : num -> 10,11,12,13\n",
    "\n",
    "    .for : i -> 2, ... num-1\n",
    "\n",
    "        10,3 : 10 break\n",
    "        11,3 : 11 break\n",
    "        12,3 : 12 break\n",
    "        13,3 : 13 break\n",
    "\n",
    "    out : 10,11,12,13"
   ]
  },
  {
   "cell_type": "code",
   "execution_count": null,
   "metadata": {},
   "outputs": [
    {
     "name": "stdout",
     "output_type": "stream",
     "text": [
      "10\n",
      "11\n",
      "12\n",
      "13\n"
     ]
    }
   ],
   "source": [
    "for num in range(10,14):\n",
    "    for i in range(2,num):\n",
    "        if i%2 == 1: \n",
    "            print(num)\n",
    "            break"
   ]
  },
  {
   "cell_type": "code",
   "execution_count": null,
   "metadata": {},
   "outputs": [
    {
     "name": "stdout",
     "output_type": "stream",
     "text": [
      "Hello\n"
     ]
    }
   ],
   "source": [
    "x = -11\n",
    "if x : print(\"Hello\")\n",
    "else : print(\"Hi\")      # executed if x = 0, False, None"
   ]
  },
  {
   "cell_type": "markdown",
   "metadata": {},
   "source": [
    "## Methods :"
   ]
  },
  {
   "cell_type": "markdown",
   "metadata": {},
   "source": [
    "*Block of code executing a particular task*"
   ]
  },
  {
   "cell_type": "markdown",
   "metadata": {},
   "source": [
    "### Syntax :"
   ]
  },
  {
   "cell_type": "markdown",
   "metadata": {},
   "source": [
    "**def** *function_name* ( *arg* ) -> *return_type* :\n",
    "\n",
    "        stmt1\n",
    "        stmt2"
   ]
  },
  {
   "cell_type": "markdown",
   "metadata": {},
   "source": [
    "### Parts :"
   ]
  },
  {
   "cell_type": "markdown",
   "metadata": {},
   "source": [
    "1. Function header / defintion\n",
    "\n",
    "2. Function body\n",
    "\n",
    "3. Function calling"
   ]
  },
  {
   "cell_type": "markdown",
   "metadata": {},
   "source": [
    "### Types : "
   ]
  },
  {
   "cell_type": "markdown",
   "metadata": {},
   "source": [
    "1. User defined\n",
    "\n",
    "2. Built in\n",
    "\n",
    "3. Lambda/ Anonymous\n",
    "\n",
    "4. Miscellaneous\n",
    "\n",
    "        . Giving aliasing name for existing function \n",
    "        \n",
    "        . def sum():\n",
    "        .       print(\"Sum\")\n",
    "        . sum()                 -> Sum\n",
    "        . add = sum             -> add is misc. function\n",
    "        . add()                 -> Sum\n",
    "\n",
    "5. Nested\n",
    "\n",
    "6. Function calling another function\n",
    "\n",
    "7. Function name passing as a parameter to another function"
   ]
  },
  {
   "cell_type": "markdown",
   "metadata": {},
   "source": [
    "### Code Snippet :"
   ]
  },
  {
   "cell_type": "code",
   "execution_count": null,
   "metadata": {},
   "outputs": [
    {
     "name": "stdout",
     "output_type": "stream",
     "text": [
      "Sum\n",
      "Sum\n",
      "type(sum) : <class 'function'> -> <function sum at 0x1105c6560>\n",
      "type(add) : <class 'function'> -> <function sum at 0x1105c6560>\n"
     ]
    }
   ],
   "source": [
    "def sum():\n",
    "    print(\"Sum\")\n",
    "\n",
    "sum()\n",
    "add = sum\n",
    "add()\n",
    "\n",
    "print(f\"type(sum) : {type(sum)} -> {sum}\\ntype(add) : {type(add)} -> {add}\")"
   ]
  },
  {
   "cell_type": "markdown",
   "metadata": {},
   "source": [
    "**LOOK AT DECORATORS !!**"
   ]
  },
  {
   "cell_type": "markdown",
   "metadata": {},
   "source": [
    "## Object Oriented Concepts :"
   ]
  },
  {
   "cell_type": "markdown",
   "metadata": {},
   "source": [
    "### Advantages :"
   ]
  },
  {
   "cell_type": "markdown",
   "metadata": {},
   "source": [
    "1. Standardisation\n",
    "\n",
    "2. Solve complex problems in a simple way\n",
    "\n",
    "3. Pillars \n",
    "\n",
    "        a. Encapsulation \n",
    "\n",
    "        b. Inheritance \n",
    "                i. Single level \n",
    "                ii. Multi level \n",
    "                iii. Multiple \n",
    "                iv. Hierarchial \n",
    "                v. Hybrid \n",
    "\n",
    "        c. Data hiding using Access Specifiers \n",
    "\n",
    "        d. Multiple behaviour using polymorphism \n",
    "\n",
    "        e. Abstraction "
   ]
  },
  {
   "cell_type": "markdown",
   "metadata": {},
   "source": [
    "### Class :"
   ]
  },
  {
   "cell_type": "markdown",
   "metadata": {},
   "source": [
    "#### Class members ( Attributes ) :"
   ]
  },
  {
   "cell_type": "markdown",
   "metadata": {},
   "source": [
    "1. Variables\n",
    "\n",
    "        i. Class variables  \n",
    "\n",
    "                -> Associated with class name \n",
    "\n",
    "        ii. Instance variable \n",
    "\n",
    "                -> Associated with object \n",
    "                -> Can be declared in a special method called __init__() \n",
    "                \n",
    "\n",
    "2. Methods\n",
    "\n",
    "        i. User defined methods \n",
    "\n",
    "        ii. Special methods \n",
    "\n",
    "                -> __init__()   : \" Constructor\" in python "
   ]
  },
  {
   "cell_type": "markdown",
   "metadata": {},
   "source": [
    "#### Declaration :"
   ]
  },
  {
   "cell_type": "markdown",
   "metadata": {},
   "source": [
    "**class** *class_name* :\n",
    "    \n",
    "        .class members \n",
    "        .special method \n",
    "        .instance variables \n",
    "        .user defined method "
   ]
  },
  {
   "cell_type": "markdown",
   "metadata": {},
   "source": [
    "#### Selection of class or instance variable :"
   ]
  },
  {
   "cell_type": "markdown",
   "metadata": {},
   "source": [
    "    class variable -> if value of variable is common for all objects of class \n",
    "\n",
    "    instance variable -> value specific to object "
   ]
  },
  {
   "cell_type": "markdown",
   "metadata": {},
   "source": [
    "### Object :"
   ]
  },
  {
   "cell_type": "markdown",
   "metadata": {},
   "source": [
    "*Instance of class* "
   ]
  },
  {
   "cell_type": "markdown",
   "metadata": {},
   "source": [
    "### Encapsulation :"
   ]
  },
  {
   "cell_type": "markdown",
   "metadata": {},
   "source": [
    "*Binding data into class or object*"
   ]
  },
  {
   "cell_type": "markdown",
   "metadata": {},
   "source": [
    "### Inheritance :"
   ]
  },
  {
   "cell_type": "markdown",
   "metadata": {},
   "source": [
    "    ::::::::::::::::::::::::::::\n",
    "    :        class A           :  -> Base class\n",
    "    ;,,,,,,,,,,,,,,,,,,,,,,,,,,;\n",
    "    :        x = 10            :\n",
    "    :        y = 20            :\n",
    "    ;,,,,,,,,,,,,,,,,,,,,,,,,,,;\n",
    "    :         m1()             :\n",
    "    ;;;;;;;;;;;;;;;;;;;;;;;;;;;;\n",
    "    \n",
    "                .\n",
    "               / \\\n",
    "                |\n",
    "                |\n",
    "\n",
    "    ::::::::::::::::::::::::::::\n",
    "    :        class B           :  -> Sub class\n",
    "    ;,,,,,,,,,,,,,,,,,,,,,,,,,,;\n",
    "    :        a = 100           :\n",
    "    :        b = 200           :\n",
    "    ;,,,,,,,,,,,,,,,,,,,,,,,,,,;\n",
    "    :         m2()             :\n",
    "    ;;;;;;;;;;;;;;;;;;;;;;;;;;;;"
   ]
  },
  {
   "cell_type": "markdown",
   "metadata": {},
   "source": [
    "* Single inheritance \n",
    "    \n",
    "        a <- b  \n",
    "\n",
    "* Multi level inheritance \n",
    "    \n",
    "        a <- b <- c  \n",
    "\n",
    "* Multiple inheritance\n",
    "\n",
    "        a <- b -> c  \n",
    "\n",
    "* Hierarchial inheritance\n",
    "\n",
    "        a <- b\n",
    "          <- c"
   ]
  },
  {
   "cell_type": "markdown",
   "metadata": {},
   "source": [
    "### Polymorphism"
   ]
  },
  {
   "cell_type": "markdown",
   "metadata": {},
   "source": [
    "Multiple behaviour in different contexts"
   ]
  },
  {
   "cell_type": "markdown",
   "metadata": {},
   "source": [
    "#### Types"
   ]
  },
  {
   "cell_type": "markdown",
   "metadata": {},
   "source": [
    "1. Compile time\n",
    "    \n",
    "        method overloading \n",
    "         \n",
    "        : isnt possible in py because its an interpreted language. If all the method names are same, python will execute last method because all the methods are overloaded to the same place. \n",
    "\n",
    "2. Runtime \n",
    "\n",
    "        method overriding \n",
    "         \n",
    "         : Rules :\n",
    "                * must be is-a relationship \n",
    "                * method name should be same "
   ]
  },
  {
   "cell_type": "markdown",
   "metadata": {},
   "source": [
    "### Code Snippets :"
   ]
  },
  {
   "cell_type": "markdown",
   "metadata": {},
   "source": [
    "**Classes :**"
   ]
  },
  {
   "cell_type": "code",
   "execution_count": 12,
   "metadata": {},
   "outputs": [
    {
     "name": "stdout",
     "output_type": "stream",
     "text": [
      "Class variables : \n",
      "myClass.x = 10\n",
      "myClass.y = 20\n",
      "\n",
      "Instance variables : \n",
      "A.x = 10\n",
      "A.y = 20\n",
      "\n",
      "A : \n",
      "a = 100\n",
      "b = 200\n",
      "\n",
      "type(A) : <class '__main__.myClass'>\n",
      "\n",
      "B : \n",
      "a = 1000\n",
      "b = 2000\n",
      "\n",
      "type(B) : <class '__main__.myClass'>\n",
      "\n",
      "A.info() : \n",
      "a = 100\n",
      "b = 200\n"
     ]
    }
   ],
   "source": [
    "class myClass:\n",
    "    # class variable\n",
    "    x = 10\n",
    "    y = 20\n",
    "\n",
    "    # instance variables \n",
    "    def __init__(self,a,b):\n",
    "        self.a = a\n",
    "        self.b = b\n",
    "\n",
    "    # special methods\n",
    "    def __str__(self):\n",
    "        return f\"a = {self.a}\\nb = {self.b}\"\n",
    "    \n",
    "    # user defined methods\n",
    "    def info(self):\n",
    "        print(f\"a = {self.a}\\nb = {self.b}\") \n",
    "\n",
    "print(\"Class variables : \")\n",
    "print(f\"myClass.x = {myClass.x}\\nmyClass.y = {myClass.y}\\n\")\n",
    "\n",
    "A = myClass(100,200)\n",
    "B = myClass(1000,2000)\n",
    "\n",
    "print(\"Instance variables : \")\n",
    "print(f\"A.x = {A.x}\\nA.y = {A.y}\\n\")\n",
    "\n",
    "print(f\"A : \\n{A}\\n\\ntype(A) : {type(A)}\\n\")\n",
    "print(f\"B : \\n{B}\\n\\ntype(B) : {type(B)}\\n\")\n",
    "\n",
    "print(\"A.info() : \")\n",
    "A.info()\n"
   ]
  },
  {
   "cell_type": "markdown",
   "metadata": {},
   "source": [
    "**Objects :**"
   ]
  },
  {
   "cell_type": "code",
   "execution_count": 18,
   "metadata": {},
   "outputs": [
    {
     "name": "stdout",
     "output_type": "stream",
     "text": [
      "Bank Name : ICICI - BTR branch\n",
      "Account Number : 1001\n",
      "Account Holder : R\n",
      "Balance : 1000\n",
      "\n",
      "Bank Name : ICICI - BTR branch\n",
      "Account Number : 1002\n",
      "Account Holder : S\n",
      "Balance : 2000\n"
     ]
    }
   ],
   "source": [
    "class acc:\n",
    "    bName = \"ICICI\"\n",
    "    branch = \"BTR\"\n",
    "\n",
    "    def __init__(self,accNo,accHolder,bal):\n",
    "        self.accNo = accNo\n",
    "        self.accHolder = accHolder\n",
    "        self.bal = bal\n",
    "\n",
    "    def __str__(self):\n",
    "        return f\"Bank Name : {self.bName} - {self.branch} branch\\nAccount Number : {self.accNo}\\nAccount Holder : {self.accHolder}\\nBalance : {self.bal}\"\n",
    "    \n",
    "\n",
    "A = acc(1001,\"R\",1000)\n",
    "B = acc(1002,\"S\",2000)\n",
    "\n",
    "print(A)\n",
    "print()\n",
    "print(B)"
   ]
  },
  {
   "cell_type": "markdown",
   "metadata": {},
   "source": [
    "**Inheritance :**"
   ]
  },
  {
   "cell_type": "code",
   "execution_count": 7,
   "metadata": {},
   "outputs": [
    {
     "name": "stdout",
     "output_type": "stream",
     "text": [
      "100\n",
      "200\n",
      "M1\n",
      "M2\n"
     ]
    }
   ],
   "source": [
    "class A:\n",
    "    def __init__(self):\n",
    "        self.a = 100\n",
    "        self.b = 200\n",
    "    def m1(self):\n",
    "        print(\"M1\")\n",
    "\n",
    "class B(A):\n",
    "    def __init__(self):\n",
    "        self.x = 101\n",
    "        self.y = 201\n",
    "        super().__init__()      # added to consider __init__() of super class\n",
    "    def m2(self):\n",
    "        print(\"M2\")\n",
    "\n",
    "b = B()\n",
    "\n",
    "print(b.a)\n",
    "print(b.b)\n",
    "b.m1()\n",
    "b.m2()"
   ]
  },
  {
   "cell_type": "markdown",
   "metadata": {},
   "source": [
    "**Multi level Inheritance :** "
   ]
  },
  {
   "cell_type": "code",
   "execution_count": 14,
   "metadata": {},
   "outputs": [
    {
     "name": "stdout",
     "output_type": "stream",
     "text": [
      "{'A': 10, 'B': 20, 'D': 40, 'C': 30, 'E': 50}\n"
     ]
    }
   ],
   "source": [
    "class a:\n",
    "    def __init__(self) -> None:\n",
    "        self.A = 10\n",
    "\n",
    "class b(a):\n",
    "    def __init__(self) -> None:\n",
    "        super().__init__()\n",
    "        self.B = 20\n",
    "\n",
    "class c(b):\n",
    "    def __init__(self) -> None:\n",
    "        super().__init__()\n",
    "        self.C = 30\n",
    "\n",
    "obj = c()\n",
    "print(obj.__dict__)"
   ]
  },
  {
   "cell_type": "markdown",
   "metadata": {},
   "source": [
    "**Multiple Inheritance :**"
   ]
  },
  {
   "cell_type": "code",
   "execution_count": 20,
   "metadata": {},
   "outputs": [
    {
     "name": "stdout",
     "output_type": "stream",
     "text": [
      "{'A': 10, 'B': 20, 'C': 30}\n"
     ]
    }
   ],
   "source": [
    "class a:\n",
    "    def __init__(self) -> None:\n",
    "        self.A = 10\n",
    "\n",
    "class b:\n",
    "    def __init__(self) -> None:\n",
    "        super().__init__()\n",
    "        self.B = 20\n",
    "\n",
    "class c(a,b):\n",
    "    def __init__(self) -> None:\n",
    "        a.__init__(self)\n",
    "        b.__init__(self)\n",
    "        self.C = 30\n",
    "\n",
    "obj = c()\n",
    "print(obj.__dict__)"
   ]
  },
  {
   "cell_type": "markdown",
   "metadata": {},
   "source": [
    "**Heirarchial Interitance :**"
   ]
  },
  {
   "cell_type": "code",
   "execution_count": 21,
   "metadata": {},
   "outputs": [
    {
     "name": "stdout",
     "output_type": "stream",
     "text": [
      "{'name': 'Ravi', 'age': 21, 'gender': 'Male', 'usn': '4VP21AI043', 'marks': 100, 'grade': 9.5}\n",
      "{'name': 'Ram', 'age': 30, 'gender': 'Male', 'empID': 123, 'designation': 'Manager', 'salary': 10000}\n"
     ]
    }
   ],
   "source": [
    "class person:\n",
    "    def __init__(self,name,age,gender) -> None:\n",
    "        self.name = name\n",
    "        self.age = age\n",
    "        self.gender = gender\n",
    "\n",
    "class student(person):\n",
    "    def __init__(self, name, age, gender, usn, marks, grade) -> None:\n",
    "        super().__init__(name, age, gender)\n",
    "        self.usn = usn\n",
    "        self.marks = marks\n",
    "        self.grade = grade\n",
    "\n",
    "class employee(person):\n",
    "    def __init__(self, name, age, gender, empId, designation, salary ) -> None:\n",
    "        super().__init__(name, age, gender)\n",
    "        self.empID = empId\n",
    "        self.designation = designation\n",
    "        self.salary = salary\n",
    "\n",
    "s = student(\"Ravi\", 21, \"Male\", \"4VP21AI043\", 100, 9.5)\n",
    "e = employee(\"Ram\", 30, \"Male\", 123, \"Manager\", 10000)\n",
    "\n",
    "print(s.__dict__)\n",
    "print(e.__dict__)"
   ]
  },
  {
   "cell_type": "markdown",
   "metadata": {},
   "source": [
    "### Exercise"
   ]
  },
  {
   "cell_type": "markdown",
   "metadata": {},
   "source": [
    "* create class -> myDict\n",
    "* if obj is created -> create an empty dict automatically\n",
    "* class must contain methods -> addItems(), updateItems(), removeItems() & displayItems()\n",
    "* do not use any inbuilt methods of dict"
   ]
  },
  {
   "cell_type": "code",
   "execution_count": 35,
   "metadata": {},
   "outputs": [
    {
     "name": "stdout",
     "output_type": "stream",
     "text": [
      "1 \t:\t 2\n",
      "2 \t:\t 3\n",
      "\n",
      "1 \t:\t 2\n",
      "2 \t:\t 4\n",
      "3 \t:\t 5\n",
      "\n",
      "2 \t:\t 4\n",
      "3 \t:\t 5\n"
     ]
    }
   ],
   "source": [
    "class myDict:\n",
    "    def __init__(self) -> None:\n",
    "        self.dict = {} \n",
    "\n",
    "    def addItems(self,key,value):\n",
    "        if key in self.dict.keys() : return\n",
    "        self.dict[key] = value\n",
    "\n",
    "    def updateItems(self, key, newVal):\n",
    "        if key in self.dict.keys() : self.dict[key] = newVal\n",
    "        else : self.addItems(key,newVal)\n",
    "\n",
    "    def removeItems(self, key):\n",
    "        if key in self.dict.keys() : del self.dict[key]\n",
    "    def displayItems(self):\n",
    "        for i in self.dict:\n",
    "            print(i,\"\\t:\\t\",self.dict[i])\n",
    "\n",
    "d = myDict()\n",
    "\n",
    "d.addItems(1,2)\n",
    "d.addItems(2,3)\n",
    "d.addItems(2,4)\n",
    "d.displayItems()\n",
    "print()\n",
    "d.updateItems(2,4)\n",
    "d.updateItems(3,5)\n",
    "d.displayItems()\n",
    "print()\n",
    "d.removeItems(1)\n",
    "d.displayItems()"
   ]
  },
  {
   "cell_type": "markdown",
   "metadata": {},
   "source": [
    "* create a class audDevice\n",
    "* variables : deviceName, deviceVersion\n",
    "* audDevice -> device class\n",
    "* variables : address, name\n",
    "* methods : on, off\n",
    "\n",
    "* create a classes microphone, speaker\n",
    "* two classes inherit properties from audio device class\n",
    "\n",
    "* microphone should contain var : type , method : startRec, stopRec\n",
    "* speaker should contain var : type , name & curVolume , method : increaseVolume, decreaseVolume & curVolume"
   ]
  },
  {
   "cell_type": "code",
   "execution_count": 24,
   "metadata": {},
   "outputs": [],
   "source": [
    "class device:\n",
    "    def __init__(self,address, deviceName) -> None:\n",
    "        self.address = address\n",
    "        self.deviceName = deviceName\n",
    "        self.state = False\n",
    "\n",
    "    def on(self):\n",
    "        self.state = True\n",
    "        print(\"Device turned ON !!\")\n",
    "\n",
    "    def off(self):\n",
    "        self.state = False\n",
    "        print(\"Device turned OFF !!\")\n",
    "\n",
    "    def __str__(self):\n",
    "        return f\"Device {self.name} ver. {self.deviceVersion} is {'ON' if self.state else 'OFF'}\"\n",
    "\n",
    "class audDevice(device):\n",
    "    def __init__(self,address,deviceName, deviceVersion) -> None:\n",
    "        super().__init__(address,deviceName)\n",
    "        self.deviceVersion = deviceVersion\n",
    "\n",
    "    def __str__(self):\n",
    "        return f\"Device {self.deviceName} ver. {self.deviceVersion} is {'ON' if self.state else 'OFF'}\"\n",
    "\n",
    "class microphone(audDevice):\n",
    "    def __init__(self,address,deviceName,deviceVersion,type) -> None:\n",
    "        super().__init__(address,deviceName,deviceVersion)\n",
    "        self.type = type\n",
    "        self.recordingState = False\n",
    "\n",
    "    def startRecording(self):\n",
    "        if not self.state : self.state = True\n",
    "        self.recordingState = True\n",
    "        print(\"Recording started !!\")\n",
    "\n",
    "    def stopRecording(self):\n",
    "        self.recordingState = False\n",
    "        print(\"Recording stopped !!\")\n",
    "\n",
    "    def __str__(self):\n",
    "        if self.state == False : self.recordingState = False\n",
    "        return f\"Device {self.deviceName} ver. {self.deviceVersion} is {'ON' if self.state else 'OFF'}\\nRecording is {'ON' if self.recordingState else 'OFF'}\"\n",
    "    \n",
    "class speaker(audDevice):\n",
    "    def __init__(self, address, deviceName, deviceVersion,type) -> None:\n",
    "        super().__init__(address, deviceName, deviceVersion)\n",
    "        self.type = type\n",
    "        self.curVolume = 0\n",
    "\n",
    "    def increaseVolume(self,value):\n",
    "        if self.curVolume<100: self.curVolume += value\n",
    "        if self.curVolume > 100 : self.curVolume = 100\n",
    "        print(f\"Current Volume : {self.curVolume}\")\n",
    "\n",
    "    def decreaseVolume(self,value):\n",
    "        if self.curVolume > 0 : self.curVolume -= value\n",
    "        if self.curVolume < 0 : self.curVolume = 0\n",
    "        print(f\"Current Volume : {self.curVolume}\")\n",
    "\n",
    "    def getCurVolume(self):\n",
    "        print(f\"Current Volume : {self.curVolume}\")\n",
    "\n",
    "    def __str__(self):\n",
    "        return f\"Device {self.deviceName} ver. {self.deviceVersion} is {'ON' if self.state else 'OFF'}\\nCurrent Volume : {self.curVolume}\""
   ]
  },
  {
   "cell_type": "code",
   "execution_count": 25,
   "metadata": {},
   "outputs": [
    {
     "name": "stdout",
     "output_type": "stream",
     "text": [
      "Device myMic ver. 0.2.3 is OFF\n",
      "Recording is OFF\n",
      "\n",
      "Device turned ON !!\n",
      "Recording started !!\n",
      "Recording stopped !!\n",
      "Device turned OFF !!\n",
      "\n",
      "Device mySpeaker ver. 1.3.2 is OFF\n",
      "Current Volume : 0\n",
      "\n",
      "Device turned ON !!\n",
      "Current Volume : 0\n",
      "Current Volume : 100\n",
      "Current Volume : 80\n",
      "Device turned OFF !!\n"
     ]
    }
   ],
   "source": [
    "m = microphone('VCET', 'myMic','0.2.3','Standing mic')\n",
    "s = speaker('VCET', 'mySpeaker', '1.3.2', 'High Definition')\n",
    "\n",
    "print(m)\n",
    "print()\n",
    "\n",
    "m.on()\n",
    "m.startRecording()\n",
    "m.stopRecording()\n",
    "m.off()\n",
    "print()\n",
    "\n",
    "print(s)\n",
    "print()\n",
    "\n",
    "s.on()\n",
    "s.getCurVolume()\n",
    "s.increaseVolume(200)\n",
    "s.decreaseVolume(20)\n",
    "s.off()"
   ]
  },
  {
   "cell_type": "markdown",
   "metadata": {},
   "source": [
    "# 25.06.24"
   ]
  },
  {
   "cell_type": "markdown",
   "metadata": {},
   "source": [
    "## Object Oriented Concepts cont."
   ]
  },
  {
   "cell_type": "markdown",
   "metadata": {},
   "source": [
    "### Abstraction :"
   ]
  },
  {
   "cell_type": "markdown",
   "metadata": {},
   "source": [
    "Hiding imlementation and displaying only the functionality."
   ]
  },
  {
   "cell_type": "markdown",
   "metadata": {},
   "source": [
    "#### Abstact Classes :"
   ]
  },
  {
   "cell_type": "markdown",
   "metadata": {},
   "source": [
    "* Its a class that is inheriting properties from class ABC and contains atleast 1 abstract method\n",
    "\n",
    "* Abstract method is a method which has incomplete functionalities in abstract class and decorated with **@abstractmethod**\n",
    "\n",
    "* Abstract class cant be instantiated, thus object for abstract class cant be created.\n",
    "\n",
    "* For the number of abstract methods declared in abstract class,imlplementation for all abstract methods must exist in subclass. Python throws error otherwise."
   ]
  },
  {
   "cell_type": "markdown",
   "metadata": {},
   "source": [
    "        from abc import ABC, abstractmethod\n",
    "\n",
    "        class *className* ( ABC ):\n",
    "\n",
    "                @abstractmethod\n",
    "                def *mymethod* ( self ):\n",
    "                        pass"
   ]
  },
  {
   "cell_type": "markdown",
   "metadata": {},
   "source": [
    "#### Requirements :"
   ]
  },
  {
   "cell_type": "markdown",
   "metadata": {},
   "source": [
    "1. Factory design pattern\n",
    "\n",
    "2. Interface\n",
    "\n",
    "3. Downcasting"
   ]
  },
  {
   "cell_type": "markdown",
   "metadata": {},
   "source": [
    "### Code Snippet"
   ]
  },
  {
   "cell_type": "markdown",
   "metadata": {},
   "source": [
    "**Polymorphism wrt functions :**"
   ]
  },
  {
   "cell_type": "code",
   "execution_count": null,
   "metadata": {},
   "outputs": [
    {
     "name": "stdout",
     "output_type": "stream",
     "text": [
      "puppy\n",
      "Bow\n",
      "\n",
      "kitty\n",
      "meow\n"
     ]
    }
   ],
   "source": [
    "class dog:\n",
    "    def name(self):\n",
    "        print(\"puppy\")\n",
    "    def noise(self):\n",
    "        print(\"bow\")\n",
    "\n",
    "class cat:\n",
    "    def name(self):\n",
    "        print(\"kitty\")\n",
    "    def noise(self):\n",
    "        print(\"meow\")\n",
    "\n",
    "def animal(obj):\n",
    "    obj.name()\n",
    "    obj.noise()\n",
    "\n",
    "d = dog()\n",
    "c = cat()\n",
    "\n",
    "animal(d)\n",
    "print()\n",
    "animal(c)"
   ]
  },
  {
   "cell_type": "markdown",
   "metadata": {},
   "source": [
    "**Method overriding :**"
   ]
  },
  {
   "cell_type": "code",
   "execution_count": null,
   "metadata": {},
   "outputs": [
    {
     "name": "stdout",
     "output_type": "stream",
     "text": [
      "Shape created\n",
      "3.1415\n"
     ]
    }
   ],
   "source": [
    "class shape:\n",
    "    def __init__(self) -> None:\n",
    "        print(\"Shape created\")\n",
    "    \n",
    "    def area(self) -> None:\n",
    "        pass\n",
    "\n",
    "class circle(shape):\n",
    "    def __init__(self,r) -> None:\n",
    "        super().__init__()\n",
    "        self.r = r\n",
    "\n",
    "    def area(self):\n",
    "        return 3.1415 * self.r**2       # overriding the inherited method\n",
    "    \n",
    "c = circle(1)\n",
    "\n",
    "print(c.area())"
   ]
  },
  {
   "cell_type": "markdown",
   "metadata": {},
   "source": [
    "**Abstraction :**"
   ]
  },
  {
   "cell_type": "code",
   "execution_count": null,
   "metadata": {},
   "outputs": [],
   "source": [
    "from abc import ABC, abstractmethod\n",
    "\n",
    "class myClass(ABC):     # abstract class\n",
    "    @abstractmethod\n",
    "    def myMethod(self):\n",
    "        pass"
   ]
  },
  {
   "cell_type": "markdown",
   "metadata": {},
   "source": [
    "## DBMS in py"
   ]
  },
  {
   "cell_type": "markdown",
   "metadata": {},
   "source": [
    "*Use of mysql-connector-python*"
   ]
  },
  {
   "cell_type": "code",
   "execution_count": 2,
   "metadata": {},
   "outputs": [],
   "source": [
    "import mysql.connector as con\n",
    "\n",
    "user  = \"root\"\n",
    "password = \"rnks2003\"\n",
    "\n",
    "conn = con.connect(user = user,password = password,host=\"localhost\")\n"
   ]
  },
  {
   "cell_type": "markdown",
   "metadata": {},
   "source": [
    "**Read :**"
   ]
  },
  {
   "cell_type": "code",
   "execution_count": 3,
   "metadata": {},
   "outputs": [
    {
     "name": "stdout",
     "output_type": "stream",
     "text": [
      "4VP21AI005 : Ananya\n",
      "4VP21AI008 : Apeksha\n",
      "4VP21AI043 : admin\n",
      "4VP21AI053 : Shrinidi\n",
      "4VP21AI057 : Suhas\n",
      "4VP21CD034 : Prajna\n",
      "4VP21CD040 : Tejas\n",
      "4VP21CD053 : Subrahmanya\n",
      "4VP21CS087 : Shailesh\n"
     ]
    }
   ],
   "source": [
    "a = conn.cursor()\n",
    "\n",
    "a.execute(\"select * from club.login\")\n",
    "\n",
    "for i in a.fetchall():\n",
    "    print(f\"{i[0]} : {i[1]}\")"
   ]
  },
  {
   "cell_type": "markdown",
   "metadata": {},
   "source": [
    "**DB creation :**"
   ]
  },
  {
   "cell_type": "code",
   "execution_count": 4,
   "metadata": {},
   "outputs": [
    {
     "name": "stdout",
     "output_type": "stream",
     "text": [
      "Database created\n"
     ]
    }
   ],
   "source": [
    "a = conn.cursor()\n",
    "\n",
    "a.execute(\"create database new\")\n",
    "a.execute(\"use new\")\n",
    "a.execute(\"create table student(name varchar(30),usn varchar(10),marks int)\")\n",
    "print(\"Database created\")\n",
    "\n"
   ]
  },
  {
   "cell_type": "markdown",
   "metadata": {},
   "source": [
    "**Insertion :**"
   ]
  },
  {
   "cell_type": "code",
   "execution_count": 7,
   "metadata": {},
   "outputs": [
    {
     "name": "stdout",
     "output_type": "stream",
     "text": [
      "('Ravi', '4VP21AI043', 100)\n",
      "('Raj', '4VP21AI044', 99)\n",
      "('Ram', '4VP21AI045', 98)\n"
     ]
    }
   ],
   "source": [
    "if 0:\n",
    "    query = \"insert into student values(%s,%s,%s)\"\n",
    "    values = [(\"Ravi\",\"4VP21AI043\",100),(\"Raj\",\"4VP21AI044\",99),(\"Ram\",\"4VP21AI045\",98)]\n",
    "\n",
    "    a.executemany(query,values)\n",
    "    conn.commit()\n",
    "\n",
    "    a.execute(\"select * from student\")\n",
    "\n",
    "    for i in a.fetchall():\n",
    "        print(i)"
   ]
  },
  {
   "cell_type": "markdown",
   "metadata": {},
   "source": [
    "**Update :**"
   ]
  },
  {
   "cell_type": "code",
   "execution_count": 8,
   "metadata": {},
   "outputs": [
    {
     "name": "stdout",
     "output_type": "stream",
     "text": [
      "('Ravi', '4VP21AI043', 99)\n",
      "('Raj', '4VP21AI044', 99)\n",
      "('Ram', '4VP21AI045', 98)\n"
     ]
    }
   ],
   "source": [
    "a.execute(\"update student set marks = 99 where name = 'Ravi'\")\n",
    "\n",
    "a.execute(\"select * from student\")\n",
    "\n",
    "for i in a.fetchall():\n",
    "    print(i)"
   ]
  },
  {
   "cell_type": "markdown",
   "metadata": {},
   "source": [
    "**Delete :**"
   ]
  },
  {
   "cell_type": "code",
   "execution_count": 10,
   "metadata": {},
   "outputs": [
    {
     "name": "stdout",
     "output_type": "stream",
     "text": [
      "('Raj', '4VP21AI044', 99)\n",
      "('Ram', '4VP21AI045', 98)\n"
     ]
    }
   ],
   "source": [
    "a = conn.cursor()\n",
    "\n",
    "a.execute(\"delete from student where name = 'Ravi'\")\n",
    "\n",
    "conn.commit()\n",
    "\n",
    "a.execute(\"select * from student\")\n",
    "\n",
    "for i in a.fetchall():\n",
    "    print(i)"
   ]
  },
  {
   "cell_type": "markdown",
   "metadata": {},
   "source": [
    "## Data structures :"
   ]
  },
  {
   "cell_type": "markdown",
   "metadata": {},
   "source": [
    "*Way of organising data to be used efficiently*"
   ]
  },
  {
   "cell_type": "markdown",
   "metadata": {},
   "source": [
    "### Primitive"
   ]
  },
  {
   "cell_type": "markdown",
   "metadata": {},
   "source": [
    "1. Int\n",
    "\n",
    "2. String\n",
    "\n",
    "3. Boolean\n",
    "\n",
    "4. Float\n",
    "\n",
    "5. Char"
   ]
  },
  {
   "cell_type": "markdown",
   "metadata": {},
   "source": [
    "### Non Primitive"
   ]
  },
  {
   "cell_type": "markdown",
   "metadata": {},
   "source": [
    "1. Linear\n",
    "\n",
    "        i. Static \n",
    "            * array \n",
    "        ii. Dynamic \n",
    "            * stack \n",
    "            * queue \n",
    "            * linked list \n",
    "\n",
    "2. Non Linear \n",
    "\n",
    "        i. Trees \n",
    "        ii. Graphs "
   ]
  },
  {
   "cell_type": "markdown",
   "metadata": {},
   "source": [
    "### Stack"
   ]
  },
  {
   "cell_type": "markdown",
   "metadata": {},
   "source": [
    "* FILO or LIFO\n",
    "\n",
    "* single ended\n",
    "\n",
    "* created using LIST "
   ]
  },
  {
   "cell_type": "code",
   "execution_count": 8,
   "metadata": {},
   "outputs": [],
   "source": [
    "class stack:\n",
    "    def __init__(self,maxSize) -> None:\n",
    "        self.lst = []\n",
    "        self.maxSize = maxSize\n",
    "\n",
    "    def __str__(self) -> str:\n",
    "        msg = f\"Stack Meta :\\n    Size : {len(self.lst)}\\n    Max size : {self.maxSize}\\nStack View :\\n    \"\n",
    "        stackView = \"\"\n",
    "        for i in self.lst[::-1]:\n",
    "            stackView = stackView + str(i) + \"\\n    \"\n",
    "        if stackView == \"\":stackView+=\"Empty\"\n",
    "        return msg+stackView\n",
    "\n",
    "\n",
    "    def isFull(self) -> bool:\n",
    "        if len(self.lst) == self.maxSize : return True\n",
    "        return False\n",
    "    \n",
    "    def isEmpty(self) -> bool:\n",
    "        if len(self.lst): return False\n",
    "        return True\n",
    "\n",
    "    def push(self,value) -> bool:\n",
    "        if self.isFull() : return False\n",
    "        self.lst.append(value)\n",
    "        return True\n",
    "\n",
    "    def pop(self) -> any:\n",
    "        if self.isEmpty() : return False\n",
    "        return self.lst.pop()\n",
    "    \n",
    "    def peek(self) -> any:\n",
    "        if self.isEmpty() : return \"Empty\"\n",
    "        return self.lst[-1]"
   ]
  },
  {
   "cell_type": "code",
   "execution_count": 9,
   "metadata": {},
   "outputs": [
    {
     "name": "stdout",
     "output_type": "stream",
     "text": [
      "1.Push\n",
      "2.Pop\n",
      "3.Peek\n",
      "4.Display\n",
      "5.Exit\n",
      "\n",
      "\n",
      "Bye\n",
      "\n"
     ]
    }
   ],
   "source": [
    "s = stack(int(input(\"Stack Size : \")))\n",
    "\n",
    "menuOptions = [\"Push\",\"Pop\",\"Peek\",\"Display\",\"Exit\"]\n",
    "\n",
    "while(True):\n",
    "    for i in range(len(menuOptions)):\n",
    "        print(f\"{i+1}.{menuOptions[i]}\")\n",
    "    print()\n",
    "    choice = int(input(\"Choice : \"))\n",
    "    print()\n",
    "    match choice:\n",
    "        case 1: \n",
    "            res = s.push(input(\"Element to be entered : \"))\n",
    "            if res: print(\"push successful\")\n",
    "            else: print(\"push failed\")\n",
    "        case 2: \n",
    "            res = s.pop()\n",
    "            if res: print(f\"pop({res}) successful\")\n",
    "            else: print(\"pop failed\")\n",
    "        case 3:\n",
    "            res = s.peek()\n",
    "            print(f\"Peeking gets you {res}\")\n",
    "        case 4:\n",
    "            print(s)\n",
    "        case 5:\n",
    "            print(\"Bye\\n\")\n",
    "            break\n",
    "        case _:\n",
    "            print(\"Unsupported Operation\")\n",
    "\n",
    "    print(\"\\n\\n\")"
   ]
  },
  {
   "cell_type": "markdown",
   "metadata": {},
   "source": [
    "### Linked List"
   ]
  },
  {
   "cell_type": "markdown",
   "metadata": {},
   "source": [
    "* Its a linear dynamic structure where data is stored inside a node.\n",
    "\n",
    "* Nodes are connected in sequential manner\n",
    "\n",
    "Node - memory location to store data and address field to store address of next node"
   ]
  },
  {
   "cell_type": "code",
   "execution_count": 22,
   "metadata": {},
   "outputs": [],
   "source": [
    "class Node:\n",
    "    def __init__(self) -> None:\n",
    "        self.data = None\n",
    "        self.address = None"
   ]
  },
  {
   "cell_type": "code",
   "execution_count": 44,
   "metadata": {},
   "outputs": [],
   "source": [
    "class linkedList:\n",
    "    def __init__(self) -> None:\n",
    "        self.head = Node()\n",
    "        self.size = 0\n",
    "\n",
    "    def __str__(self) -> str:\n",
    "        if self.size == 0 : \n",
    "            return \"empty\"\n",
    "        elif self.size == 1 : \n",
    "            return str(self.head.data)\n",
    "        travel = self.head\n",
    "        msg = \"\"\n",
    "        while travel.address:\n",
    "            msg = msg + str(travel.data) + ' -> '\n",
    "            travel = travel.address\n",
    "        if travel.data:\n",
    "            msg = msg + str(travel.data)\n",
    "        else : \n",
    "            msg = msg [:-3]\n",
    "        return msg\n",
    "    \n",
    "    def isEmpty(self):\n",
    "        if not self.head: return True \n",
    "        return False\n",
    "\n",
    "    def push(self, value, pos : int = 0) -> bool:\n",
    "        temp = Node()\n",
    "        temp.data = value\n",
    "        \n",
    "        if pos < -1 : return False\n",
    "        \n",
    "        match pos:\n",
    "            case 0 : \n",
    "                if self.head is None : \n",
    "                    self.head = temp\n",
    "                temp.address = self.head\n",
    "                self.head = temp\n",
    "            \n",
    "            case -1:\n",
    "                travel = self.head\n",
    "                while travel.address.address: \n",
    "                    travel = travel.address\n",
    "                travel.address = temp\n",
    "\n",
    "            case _:\n",
    "                travel = self.head.address\n",
    "                prev = self.head\n",
    "                for i in range(pos-1):\n",
    "                    if not travel.address : return False\n",
    "                    prev = travel\n",
    "                    travel = travel.address\n",
    "                prev.address = temp\n",
    "                temp.address = travel\n",
    "        self.size += 1\n",
    "        return True\n",
    "\n",
    "    def pop(self,pos : int = 0) -> any:\n",
    "        temp = Node()\n",
    "        \n",
    "        if self.size == 0 : return \"empty\"\n",
    "\n",
    "        if pos < -1 : return False\n",
    "\n",
    "        if self.size == 1: \n",
    "            temp.data = self.head.data\n",
    "            temp.address = self.head.address\n",
    "            self.head = None\n",
    "            self.size -= 1\n",
    "            return (temp.data,temp.address)\n",
    "\n",
    "        match pos:\n",
    "            case 0: \n",
    "                temp.data = self.head.data\n",
    "                temp.address = self.head\n",
    "                self.head = self.head.address\n",
    "                \n",
    "            case -1:\n",
    "                travel = self.head\n",
    "                while travel.address:\n",
    "                    prev = travel\n",
    "                    travel = travel.address\n",
    "                temp.data = travel.data\n",
    "                temp.address = prev.address\n",
    "                prev.address = None\n",
    "\n",
    "            case _:\n",
    "                travel = self.head\n",
    "                for _ in range(pos):\n",
    "                    if not travel.address : return False\n",
    "                    prev = travel\n",
    "                    travel = travel.address\n",
    "                temp.data = travel.data\n",
    "                temp.address = prev.address\n",
    "                prev.address = travel.address\n",
    "        self.size -= 1\n",
    "        return (temp.data,temp.address)"
   ]
  },
  {
   "cell_type": "code",
   "execution_count": 50,
   "metadata": {},
   "outputs": [
    {
     "name": "stdout",
     "output_type": "stream",
     "text": [
      "empty\n",
      "size :  0\n",
      "0\n",
      "size :  1\n",
      "1 -> 0 \n",
      "size :  2\n",
      "2 -> 1 -> 0 \n",
      "size :  3\n",
      "3 -> 2 -> 1 -> 0 \n",
      "size :  4\n",
      "4 -> 3 -> 2 -> 1 -> 0 \n",
      "size :  5\n",
      "3 -> 2 -> 1 -> 0 \n",
      "size :  4\n",
      "2 -> 1 -> 0 \n",
      "size :  3\n",
      "1 -> 0 \n",
      "size :  2\n",
      "0\n",
      "size :  1\n",
      "empty\n",
      "size :  0\n"
     ]
    }
   ],
   "source": [
    "ll = linkedList()\n",
    "\n",
    "print(ll)\n",
    "for i in range(5):\n",
    "    print(\"size : \",ll.size)\n",
    "    ll.push(i)\n",
    "    print(ll)\n",
    "for i in range(5):\n",
    "    print(\"size : \",ll.size)\n",
    "    ll.pop()\n",
    "    print(ll)\n",
    "print(\"size : \",ll.size)"
   ]
  },
  {
   "cell_type": "markdown",
   "metadata": {},
   "source": [
    "# 26.06.24"
   ]
  },
  {
   "cell_type": "markdown",
   "metadata": {},
   "source": [
    "## SQL"
   ]
  },
  {
   "cell_type": "markdown",
   "metadata": {},
   "source": [
    "First Database by **Charles Bachman** in 1960\n",
    "\n",
    "RDBMS by **E.F. Codd in 1970** in IBM (R-system, Simple English QUEry Language)\n",
    "\n",
    "RDBMS handed to ANSI in 1986 (Structured Query Language)"
   ]
  },
  {
   "cell_type": "markdown",
   "metadata": {},
   "source": [
    "DBMS adds **Security** & **Authorisation**"
   ]
  },
  {
   "cell_type": "markdown",
   "metadata": {},
   "source": [
    "### Languages :"
   ]
  },
  {
   "cell_type": "markdown",
   "metadata": {},
   "source": [
    "#### DDL"
   ]
  },
  {
   "cell_type": "markdown",
   "metadata": {},
   "source": [
    "* Create\n",
    "\n",
    "* Drop\n",
    "\n",
    "* Alter\n",
    "    * add\n",
    "    * modify\n",
    "    * drop\n",
    "    * rename\n",
    "\n",
    "* Truncate\n",
    "\n",
    "* Rename"
   ]
  },
  {
   "cell_type": "markdown",
   "metadata": {},
   "source": [
    "#### DML"
   ]
  },
  {
   "cell_type": "markdown",
   "metadata": {},
   "source": [
    "* Insert\n",
    "\n",
    "* Update\n",
    "\n",
    "* Delete"
   ]
  },
  {
   "cell_type": "markdown",
   "metadata": {},
   "source": [
    "#### DCL"
   ]
  },
  {
   "cell_type": "markdown",
   "metadata": {},
   "source": [
    "* Grant\n",
    "\n",
    "* Revoke"
   ]
  },
  {
   "cell_type": "markdown",
   "metadata": {},
   "source": [
    "#### TCL"
   ]
  },
  {
   "cell_type": "markdown",
   "metadata": {},
   "source": [
    "* Commit\n",
    "\n",
    "* Roll Back\n",
    "\n",
    "* Save Point"
   ]
  },
  {
   "cell_type": "markdown",
   "metadata": {},
   "source": [
    "#### DQL"
   ]
  },
  {
   "cell_type": "markdown",
   "metadata": {},
   "source": [
    "* Select\n",
    "\n",
    "* Projection\n",
    "\n",
    "* Selection\n",
    "\n",
    "* Join"
   ]
  },
  {
   "cell_type": "markdown",
   "metadata": {},
   "source": [
    "### Datatypes :"
   ]
  },
  {
   "cell_type": "markdown",
   "metadata": {},
   "source": [
    "* int (mySQL), number(precision, scale) (Oracle)\n",
    "    * precision : 1 - 38\n",
    "    * scale : -127 - 84\n",
    "    \n",
    "* char(size)\n",
    "    * size : 1 - 2000\n",
    "    * fixed length memory allocation\n",
    "\n",
    "* varchar(size)\n",
    "    * size : 1 - 2000\n",
    "    * varchar2 -> size : 1 - 4000 \n",
    "\n",
    "* date\n",
    "\n",
    "* large object\n",
    "    * CLOB\n",
    "    * BLOB \n",
    "        * 4 GB capacity"
   ]
  },
  {
   "cell_type": "markdown",
   "metadata": {},
   "source": [
    "### Contrainsts :"
   ]
  },
  {
   "cell_type": "markdown",
   "metadata": {},
   "source": [
    "* Unique\n",
    "\n",
    "* Not NULL\n",
    "\n",
    "* Check\n",
    "\n",
    "* Primary key\n",
    "\n",
    "* Reference integrity key"
   ]
  },
  {
   "cell_type": "markdown",
   "metadata": {},
   "source": [
    "### Operators :"
   ]
  },
  {
   "cell_type": "markdown",
   "metadata": {},
   "source": [
    "* Arithmetic\n",
    "\n",
    "* Relational\n",
    "\n",
    "* Logical\n",
    "\n",
    "* Comparison\n",
    "\n",
    "* Concatenation\n",
    "\n",
    "* Special Operator\n",
    "    * In\n",
    "    * Not in\n",
    "    * Between\n",
    "    * Not Between\n",
    "    * Like\n",
    "    * Not Like\n",
    "    * Is\n",
    "    * Is not\n",
    "\n",
    "* Sub Query operator\n",
    "    * Any\n",
    "    * All\n",
    "    * Exists\n",
    "    * Not Exists"
   ]
  },
  {
   "cell_type": "markdown",
   "metadata": {},
   "source": [
    "### Misc"
   ]
  },
  {
   "cell_type": "markdown",
   "metadata": {},
   "source": [
    "#### Retrieving dropped data"
   ]
  },
  {
   "cell_type": "markdown",
   "metadata": {},
   "source": [
    "* **Flashback table *tableName* to before drop**\n",
    "\n",
    "to delete permanently\n",
    "\n",
    "* use **purge**\n",
    "\n",
    "* **purge table *tableName***"
   ]
  },
  {
   "cell_type": "markdown",
   "metadata": {},
   "source": [
    "#### Rename column"
   ]
  },
  {
   "cell_type": "markdown",
   "metadata": {},
   "source": [
    "**alter table tableName rename column oldName to newName**"
   ]
  },
  {
   "cell_type": "markdown",
   "metadata": {},
   "source": [
    "#### Check constraints"
   ]
  },
  {
   "cell_type": "markdown",
   "metadata": {},
   "source": [
    "SELECT table_schema, table_name, constraint_name, constraint_type\n",
    "\n",
    "FROM information_schema.table_constraints\n",
    "\n",
    "WHERE table_schema = 'dbName';"
   ]
  },
  {
   "cell_type": "markdown",
   "metadata": {},
   "source": [
    "#### Insertion  from cmd"
   ]
  },
  {
   "cell_type": "markdown",
   "metadata": {},
   "source": [
    "insert into table_name values (&col1, & col2)"
   ]
  },
  {
   "cell_type": "markdown",
   "metadata": {},
   "source": [
    "#### Auto commit"
   ]
  },
  {
   "cell_type": "markdown",
   "metadata": {},
   "source": [
    "DDL performs autocommit\n",
    "\n",
    "DML operations need explicit commit"
   ]
  },
  {
   "cell_type": "markdown",
   "metadata": {},
   "source": [
    "#### Grant"
   ]
  },
  {
   "cell_type": "markdown",
   "metadata": {},
   "source": [
    "grant < sql_statement > \n",
    "\n",
    "on table_name\n",
    "\n",
    "to userName"
   ]
  },
  {
   "cell_type": "markdown",
   "metadata": {},
   "source": [
    "#### Revoke"
   ]
  },
  {
   "cell_type": "markdown",
   "metadata": {},
   "source": [
    "revoke < sql_statement >\n",
    "\n",
    "on table_name\n",
    "\n",
    "from userName"
   ]
  },
  {
   "cell_type": "markdown",
   "metadata": {},
   "source": [
    "#### Indexing"
   ]
  },
  {
   "cell_type": "markdown",
   "metadata": {},
   "source": [
    "create index indexName\n",
    "\n",
    "on table_name( colName1, colName2, ... )"
   ]
  },
  {
   "cell_type": "markdown",
   "metadata": {},
   "source": [
    "Used to make execution faster in case of excessive use of particular column"
   ]
  },
  {
   "cell_type": "markdown",
   "metadata": {},
   "source": [
    "### Join :"
   ]
  },
  {
   "cell_type": "markdown",
   "metadata": {},
   "source": [
    "1. Cross Join (cartesian)\n",
    "\n",
    "2. Inner Join (equi)\n",
    "\n",
    "3. Natural Join\n",
    "\n",
    "4. Outer Join\n",
    "    * Left outer\n",
    "    * Right outer\n",
    "    * Full outer\n",
    "\n",
    "5. Self Join"
   ]
  },
  {
   "cell_type": "markdown",
   "metadata": {},
   "source": [
    "### Sub Query"
   ]
  },
  {
   "cell_type": "markdown",
   "metadata": {},
   "source": [
    "Same as nested query"
   ]
  },
  {
   "cell_type": "markdown",
   "metadata": {},
   "source": [
    "**Correlated sub-queries**\n",
    "\n",
    "\n",
    "select e1.sal \n",
    "\n",
    "from emp e1\n",
    "\n",
    "where (select count(distinct e2.sal) from emp e2 where e1.sal <= e2.sal) in 1;"
   ]
  },
  {
   "cell_type": "markdown",
   "metadata": {},
   "source": [
    "### Pseudo Columns"
   ]
  },
  {
   "cell_type": "markdown",
   "metadata": {},
   "source": [
    "* RowID\n",
    "\n",
    "* Row num"
   ]
  },
  {
   "cell_type": "markdown",
   "metadata": {},
   "source": [
    "### NVL"
   ]
  },
  {
   "cell_type": "markdown",
   "metadata": {},
   "source": [
    "Used to give laternative value in case of NULL\n",
    "\n",
    "eg :\n",
    "\n",
    "select e1.ename, nvl(e2.ename,\"CEO\") as \"m_name\"\n",
    "\n",
    "from emp e1, emp e2\n",
    "\n",
    "where e1.mgr = e2.empno (+);"
   ]
  },
  {
   "cell_type": "markdown",
   "metadata": {},
   "source": [
    "# Search for window function"
   ]
  },
  {
   "cell_type": "markdown",
   "metadata": {},
   "source": [
    "# 27.06.24"
   ]
  },
  {
   "cell_type": "markdown",
   "metadata": {},
   "source": [
    "## Single Linked List"
   ]
  },
  {
   "cell_type": "code",
   "execution_count": 51,
   "metadata": {},
   "outputs": [],
   "source": [
    "class Node:\n",
    "    def __init__(self) -> None:\n",
    "        self.data = None\n",
    "        self.address = None"
   ]
  },
  {
   "cell_type": "code",
   "execution_count": 73,
   "metadata": {},
   "outputs": [],
   "source": [
    "class LL:\n",
    "    def __init__(self) -> None:\n",
    "        self.head = Node()\n",
    "        self.size = 0\n",
    "\n",
    "    def __str__(self) -> str:\n",
    "        if self.size == 0:\n",
    "            return \"Empty\"\n",
    "        elif self.size == 1:\n",
    "            return str(self.head.data)\n",
    "        else:\n",
    "            travel = self.head\n",
    "            msg = \"\"\n",
    "            while travel.address:\n",
    "                if travel.data: \n",
    "                    msg = msg + str(travel.data) + \" -> \"\n",
    "                travel = travel.address\n",
    "            if travel.data:\n",
    "                msg = msg + str(travel.data)\n",
    "                return msg\n",
    "            else:\n",
    "                return msg[:-3]\n",
    "\n",
    "    def isEmpty(self) -> bool:\n",
    "        if self.size: return False\n",
    "        return True\n",
    "\n",
    "    def push(self, value, pos : int = 0) -> bool:\n",
    "        if pos < -1 : return False\n",
    "       \n",
    "        temp = Node()\n",
    "        temp.data = value\n",
    "\n",
    "        if self.head is None:\n",
    "            self.head = temp\n",
    "            self.size +=1\n",
    "            return True\n",
    "\n",
    "        match pos:\n",
    "            case 0:\n",
    "                temp.address = self.head\n",
    "                self.head = temp\n",
    "            \n",
    "            case -1:\n",
    "                travel = self.head\n",
    "                while travel.address:\n",
    "                    travel = travel.address\n",
    "                travel.address = temp\n",
    "\n",
    "            case _:\n",
    "                travel = self.head.address\n",
    "                prev = self.head\n",
    "                for _ in range(pos-1):\n",
    "                    if not travel.address: return False\n",
    "                    prev = travel\n",
    "                    travel = travel.address\n",
    "                prev.address = temp\n",
    "                temp.address = travel\n",
    "        self.size += 1\n",
    "        return True\n",
    "\n",
    "    def pop(self, pos : int = 0) -> any:\n",
    "        if pos < -1 : return False\n",
    "\n",
    "        if self.size == 0 : return \"Empty\"\n",
    "\n",
    "        if self.size == 1:\n",
    "            data = self.head.data\n",
    "            address = self.head\n",
    "            self.head = None\n",
    "            self.size -= 1\n",
    "            return (data,address)\n",
    "\n",
    "        match pos:\n",
    "            case 0:\n",
    "                data = self.head.data\n",
    "                address = self.head\n",
    "                self.head = self.head.address\n",
    "                self.size -= 1\n",
    "                return (data,address)\n",
    "\n",
    "            case -1:\n",
    "                travel = self.head\n",
    "                while travel.address.address:\n",
    "                    travel = travel.address\n",
    "                data = travel.address.data\n",
    "                address = travel.address\n",
    "                travel.address = None\n",
    "                self.size -= 1\n",
    "                return (data,address)\n",
    "\n",
    "            case _:\n",
    "                travel = self.head.address\n",
    "                prev = self.head\n",
    "                for _ in range(pos-1):\n",
    "                    if not travel.address: return False\n",
    "                    prev = travel\n",
    "                    travel = travel.address\n",
    "                data = travel.data\n",
    "                address = travel\n",
    "                prev.address = travel.address\n",
    "                self.size -= 1\n",
    "                return (data,address)\n",
    "\n",
    "        def truncate(self):\n",
    "            self.head = None\n",
    "            self.size = 0"
   ]
  },
  {
   "cell_type": "code",
   "execution_count": 82,
   "metadata": {},
   "outputs": [
    {
     "name": "stdout",
     "output_type": "stream",
     "text": [
      "1.Push\n",
      "2.Pop\n",
      "3.Display\n",
      "4.Exit\n",
      "Push successful\n",
      "1.Push\n",
      "2.Pop\n",
      "3.Display\n",
      "4.Exit\n",
      "Pop successful\n",
      "11 popped\n",
      "1.Push\n",
      "2.Pop\n",
      "3.Display\n",
      "4.Exit\n",
      "Bye\n"
     ]
    }
   ],
   "source": [
    "ll = LL()\n",
    "\n",
    "while True:\n",
    "    print(\"1.Push\\n2.Pop\\n3.Display\\n4.Exit\")\n",
    "    choice = int(input(\"Choice : \"))\n",
    "    if choice == 1:\n",
    "        value = input(\"Value : \")\n",
    "        pos = int(input(\"Position : \"))\n",
    "        if ll.push(value,pos):\n",
    "            print(\"Push successful\")\n",
    "        else:\n",
    "            print(\"Push failed\")\n",
    "    elif choice == 2:\n",
    "        pos = int(input(\"Position : \"))\n",
    "        res = ll.pop(pos)\n",
    "        if res:\n",
    "            print(f\"Pop successful\\n{res[0]} popped\")\n",
    "        else:\n",
    "            print(\"Pop failed\")\n",
    "    elif choice == 3:\n",
    "        print(ll)\n",
    "    elif choice == 4:\n",
    "        print(\"Bye\")\n",
    "        break\n",
    "    else:\n",
    "        print(\"Unsupported Operation\")"
   ]
  },
  {
   "cell_type": "markdown",
   "metadata": {},
   "source": [
    "## Double Linked List"
   ]
  },
  {
   "cell_type": "markdown",
   "metadata": {},
   "source": [
    "* Its a linear dynamic DataStructure connected with nodes and links in a bidirectional manner\n",
    "\n",
    "* In this, node contains 3 fields\n",
    "    \n",
    "    * Data\n",
    "    * Prev\n",
    "    * Next\n"
   ]
  },
  {
   "cell_type": "code",
   "execution_count": 85,
   "metadata": {},
   "outputs": [],
   "source": [
    "class Node:\n",
    "    def __init__(self) -> None:\n",
    "        self.data = None\n",
    "        self.next = None\n",
    "        self.prev = None"
   ]
  },
  {
   "cell_type": "code",
   "execution_count": 86,
   "metadata": {},
   "outputs": [],
   "source": [
    "class dLL:\n",
    "    def __init__(self) -> None:\n",
    "        self.head = Node()\n",
    "        self.size = 0\n",
    "    \n",
    "    def __str__(self) -> str:\n",
    "        if self.size == 0:\n",
    "            return \"Empty\"\n",
    "        elif self.size == 1:\n",
    "            return str(self.head.data)\n",
    "        else:\n",
    "            travel = self.head\n",
    "            msg = \"\"\n",
    "            while travel.next:\n",
    "                if travel.data:\n",
    "                    msg = msg + str(travel.data) + \" <-> \"\n",
    "                travel = travel.next\n",
    "            if travel.data:\n",
    "                msg = msg + str(travel.data)\n",
    "                return msg\n",
    "            else:\n",
    "                return msg[:-4]\n",
    "\n",
    "    def isEmpty(self) -> bool:\n",
    "        if self.size: return False\n",
    "        return True\n",
    "\n",
    "    def push(self, value, pos : int = 0) -> bool:\n",
    "        if pos < -1 : return False\n",
    "\n",
    "        temp = Node()\n",
    "        temp.data = value\n",
    "\n",
    "        if self.head is None:\n",
    "            self.head = temp\n",
    "            self.size += 1\n",
    "            return True\n",
    "\n",
    "        match pos:\n",
    "            case 0:\n",
    "                temp.next = self.head\n",
    "                self.head.prev = temp\n",
    "                self.head = temp\n",
    "\n",
    "            case -1:\n",
    "                travel = self.head\n",
    "                while travel.next:\n",
    "                    travel = travel.next\n",
    "                travel.next = temp\n",
    "                temp.prev = travel\n",
    "\n",
    "            case _:\n",
    "                travel = self.head.next\n",
    "                prev = self.head\n",
    "                for _ in range(pos-1):\n",
    "                    if not travel.next: return False\n",
    "                    prev = travel\n",
    "                    travel = travel.next\n",
    "                prev.next = temp\n",
    "                temp.prev = prev\n",
    "                temp.next = travel\n",
    "                travel.prev = temp\n",
    "        self.size += 1\n",
    "        return True\n",
    "\n",
    "    def pop(self, pos : int = 0) -> any:\n",
    "        if pos < -1 : return False\n",
    "\n",
    "        if self.size == 0 : return \"Empty\"\n",
    "\n",
    "        if self.size == 1:\n",
    "            data = self.head.data\n",
    "            address = self.head\n",
    "            self.head = None\n",
    "            self.size -= 1\n",
    "            return (data,address)\n",
    "\n",
    "        match pos:\n",
    "            case 0:\n",
    "                data = self.head.data\n",
    "                address = self.head\n",
    "                self.head = self.head.next\n",
    "                self.head.prev = None\n",
    "                self.size -= 1\n",
    "                return (data,address)\n",
    "\n",
    "            case -1:\n",
    "                travel = self.head\n",
    "                while travel.next.next:\n",
    "                    travel = travel.next\n",
    "                data = travel.next.data\n",
    "                address = travel.next\n",
    "                travel.next = None\n",
    "                self.size -= 1\n",
    "                return (data,address)\n",
    "\n",
    "            case _:\n",
    "                travel = self.head.next\n",
    "                prev = self.head\n",
    "                for _ in range(pos-1):\n",
    "                    if not travel.next: return False\n",
    "                    prev = travel\n",
    "                    travel = travel.next\n",
    "                data = travel.data\n",
    "                address = travel\n",
    "                prev.next = travel.next\n",
    "                travel.next.prev = prev\n",
    "                self.size -= 1\n",
    "                return (data,address)\n",
    "\n",
    "    def truncate(self):\n",
    "        self.head = None\n",
    "        self.size = 0"
   ]
  },
  {
   "cell_type": "code",
   "execution_count": 89,
   "metadata": {},
   "outputs": [
    {
     "name": "stdout",
     "output_type": "stream",
     "text": [
      "1.Push\n",
      "2.Pop\n",
      "3.Display\n",
      "4.Exit\n",
      "Push successful\n",
      "1.Push\n",
      "2.Pop\n",
      "3.Display\n",
      "4.Exit\n",
      "Push successful\n",
      "1.Push\n",
      "2.Pop\n",
      "3.Display\n",
      "4.Exit\n",
      "Unsupported Operation\n",
      "1.Push\n",
      "2.Pop\n",
      "3.Display\n",
      "4.Exit\n",
      "Push successful\n",
      "1.Push\n",
      "2.Pop\n",
      "3.Display\n",
      "4.Exit\n",
      "Push successful\n",
      "1.Push\n",
      "2.Pop\n",
      "3.Display\n",
      "4.Exit\n",
      "13 <-> 12 <-> 15 <-> 14\n",
      "1.Push\n",
      "2.Pop\n",
      "3.Display\n",
      "4.Exit\n",
      "Bye\n"
     ]
    }
   ],
   "source": [
    "dll = dLL()\n",
    "\n",
    "while True:\n",
    "    print(\"1.Push\\n2.Pop\\n3.Display\\n4.Exit\")\n",
    "    choice = int(input(\"Choice : \"))\n",
    "    if choice == 1:\n",
    "        value = input(\"Value : \")\n",
    "        pos = int(input(\"Position : \"))\n",
    "        if dll.push(value,pos):\n",
    "            print(\"Push successful\")\n",
    "        else:\n",
    "            print(\"Push failed\")\n",
    "    elif choice == 2:\n",
    "        pos = int(input(\"Position : \"))\n",
    "        res = dll.pop(pos)\n",
    "        if res:\n",
    "            print(f\"Pop successful\\n{res[0]} popped\")\n",
    "        else:\n",
    "            print(\"Pop failed\")\n",
    "    elif choice == 3:\n",
    "        print(dll)\n",
    "    elif choice == 4:\n",
    "        print(\"Bye\")\n",
    "        break\n",
    "    else:\n",
    "        print(\"Unsupported Operation\")"
   ]
  },
  {
   "cell_type": "markdown",
   "metadata": {},
   "source": [
    "## Circular Linked List"
   ]
  },
  {
   "cell_type": "code",
   "execution_count": 92,
   "metadata": {},
   "outputs": [],
   "source": [
    "class Node:\n",
    "    def __init__(self) -> None:\n",
    "        self.data = None\n",
    "        self.next = None"
   ]
  },
  {
   "cell_type": "code",
   "execution_count": 99,
   "metadata": {},
   "outputs": [],
   "source": [
    "class csLL:\n",
    "    def __init__(self) -> None:\n",
    "        self.head = Node()\n",
    "        self.size = 0\n",
    "    \n",
    "    def __str__(self) -> str:\n",
    "        if self.size == 0:\n",
    "            return \"Empty\"\n",
    "        elif self.size == 1:\n",
    "            return str(self.head.data)\n",
    "        else:\n",
    "            travel = self.head\n",
    "            msg = \"> \"\n",
    "            while travel.next != self.head:\n",
    "                if travel.data:\n",
    "                    msg = msg + str(travel.data) + \" -> \"\n",
    "                travel = travel.next\n",
    "            if travel.data:\n",
    "                msg = msg + str(travel.data) + ' - '\n",
    "                return msg\n",
    "            else:\n",
    "                return msg[:-1]\n",
    "    \n",
    "    def isEmpty(self) -> bool:\n",
    "        if self.size: return False\n",
    "        return True\n",
    "\n",
    "    def push(self, value, pos : int = 0) -> bool:\n",
    "        if pos < -1 : return False\n",
    "\n",
    "        temp = Node()\n",
    "        temp.data = value\n",
    "\n",
    "        if self.head is None:\n",
    "            self.head = temp\n",
    "            self.head.next = self.head\n",
    "            self.size += 1\n",
    "            return True\n",
    "\n",
    "        match pos:\n",
    "            case 0:\n",
    "                temp.next = self.head\n",
    "                self.head.next = temp\n",
    "                self.head = temp\n",
    "\n",
    "            case -1:\n",
    "                travel = self.head\n",
    "                while travel.next != self.head:\n",
    "                    travel = travel.next\n",
    "                travel.next = temp\n",
    "                temp.next = self.head\n",
    "\n",
    "            case _:\n",
    "                travel = self.head.next\n",
    "                prev = self.head\n",
    "                for _ in range(pos-1):\n",
    "                    if not travel.next: return False\n",
    "                    prev = travel\n",
    "                    travel = travel.next\n",
    "                prev.next = temp\n",
    "                temp.next = travel\n",
    "        self.size += 1\n",
    "        return True\n",
    "\n",
    "    def pop(self, pos : int = 0) -> any:\n",
    "        if pos < -1 : return False\n",
    "\n",
    "        if self.size == 0 : return \"Empty\"\n",
    "\n",
    "        if self.size == 1:\n",
    "            data = self.head.data\n",
    "            address = self.head\n",
    "            self.head = None\n",
    "            self.size -= 1\n",
    "            return (data,address)\n",
    "\n",
    "        match pos:\n",
    "            case 0:\n",
    "                data = self.head.data\n",
    "                address = self.head\n",
    "                travel = self.head\n",
    "                while travel.next != self.head:\n",
    "                    travel = travel.next\n",
    "                travel.next = self.head.next\n",
    "                self.head = self.head.next\n",
    "                self.size -= 1\n",
    "                return (data,address)\n",
    "\n",
    "            case -1:\n",
    "                travel = self.head\n",
    "                while travel.next.next != self.head:\n",
    "                    travel = travel.next\n",
    "                data = travel.next.data\n",
    "                address = travel.next\n",
    "                travel.next = self.head\n",
    "                self.size -= 1\n",
    "                return (data,address)\n",
    "\n",
    "            case _:\n",
    "                travel = self.head.next\n",
    "                prev = self.head\n",
    "                for _ in range(pos-1):\n",
    "                    if not travel.next: return False\n",
    "                    prev = travel\n",
    "                    travel = travel.next\n",
    "                if travel == self.head:\n",
    "                    data = travel.data\n",
    "                    address = travel\n",
    "                    self.head = self.head.next\n",
    "                    prev.next = self.head\n",
    "                    self.size -= 1\n",
    "                    return (data,address)\n",
    "                data = travel.data\n",
    "                address = travel\n",
    "                prev.next = travel.next\n",
    "                self.size -= 1\n",
    "                return (data,address)\n",
    "    \n",
    "    def truncate(self):\n",
    "        self.head = None\n",
    "        self.size = 0"
   ]
  },
  {
   "cell_type": "code",
   "execution_count": 100,
   "metadata": {},
   "outputs": [
    {
     "name": "stdout",
     "output_type": "stream",
     "text": [
      "1.Push\n",
      "2.Pop\n",
      "3.Display\n",
      "4.Exit\n",
      "Push successful\n",
      "1.Push\n",
      "2.Pop\n",
      "3.Display\n",
      "4.Exit\n",
      "Push successful\n",
      "1.Push\n",
      "2.Pop\n",
      "3.Display\n",
      "4.Exit\n",
      "> 23 -> 12 - \n",
      "1.Push\n",
      "2.Pop\n",
      "3.Display\n",
      "4.Exit\n",
      "Bye\n"
     ]
    }
   ],
   "source": [
    "csll = csLL()\n",
    "\n",
    "while True:\n",
    "    print(\"1.Push\\n2.Pop\\n3.Display\\n4.Exit\")\n",
    "    choice = int(input(\"Choice : \"))\n",
    "    if choice == 1:\n",
    "        value = input(\"Value : \")\n",
    "        pos = int(input(\"Position : \"))\n",
    "        if csll.push(value,pos):\n",
    "            print(\"Push successful\")\n",
    "        else:\n",
    "            print(\"Push failed\")\n",
    "    elif choice == 2:\n",
    "        pos = int(input(\"Position : \"))\n",
    "        res = csll.pop(pos)\n",
    "        if res:\n",
    "            print(f\"Pop successful\\n{res[0]} popped\")\n",
    "        else:\n",
    "            print(\"Pop failed\")\n",
    "    elif choice == 3:\n",
    "        print(csll)\n",
    "    elif choice == 4:\n",
    "        print(\"Bye\")\n",
    "        break\n",
    "    else:\n",
    "        print(\"Unsupported Operation\")"
   ]
  },
  {
   "cell_type": "markdown",
   "metadata": {},
   "source": [
    "## Searching"
   ]
  },
  {
   "cell_type": "markdown",
   "metadata": {},
   "source": [
    "### Linear search"
   ]
  },
  {
   "cell_type": "code",
   "execution_count": 114,
   "metadata": {},
   "outputs": [
    {
     "name": "stdout",
     "output_type": "stream",
     "text": [
      "5\n"
     ]
    }
   ],
   "source": [
    "lst = range(10)\n",
    "\n",
    "key = 5\n",
    "\n",
    "print(lst.index(key) if key in lst else -1) "
   ]
  },
  {
   "cell_type": "markdown",
   "metadata": {},
   "source": [
    "### Binary search"
   ]
  },
  {
   "cell_type": "code",
   "execution_count": 124,
   "metadata": {},
   "outputs": [
    {
     "name": "stdout",
     "output_type": "stream",
     "text": [
      "5\n",
      "\n"
     ]
    }
   ],
   "source": [
    "lst = range(10)\n",
    "\n",
    "key = 5\n",
    "\n",
    "low = 0\n",
    "high = len(lst)-1\n",
    "state = True\n",
    "\n",
    "while low <= high and state:\n",
    "    mid = (low+high)//2\n",
    "    if lst[mid] == key:\n",
    "        print(mid)\n",
    "        state = False\n",
    "        break\n",
    "    elif lst[mid] < key:\n",
    "        low = mid + 1\n",
    "    else:\n",
    "        high = mid - 1\n",
    "print(\"Failed\" if state else \"\")\n"
   ]
  },
  {
   "cell_type": "code",
   "execution_count": 125,
   "metadata": {},
   "outputs": [
    {
     "name": "stdout",
     "output_type": "stream",
     "text": [
      "5\n"
     ]
    }
   ],
   "source": [
    "def binSearch(arr,key):\n",
    "    low = 0\n",
    "    high = len(arr)-1\n",
    "    mid = (low+high)//2\n",
    "\n",
    "    while not (key == arr[mid]):\n",
    "        if low>high:\n",
    "            return False\n",
    "        if arr[mid]<key:\n",
    "            low = mid+1\n",
    "        elif arr[mid]>key:\n",
    "            high = mid-1\n",
    "        mid = (low+high)//2\n",
    "    return mid\n",
    "\n",
    "lst = range(10)\n",
    "key = 5\n",
    "\n",
    "print(binSearch(lst,key))"
   ]
  },
  {
   "cell_type": "markdown",
   "metadata": {},
   "source": [
    "## Sorting"
   ]
  },
  {
   "cell_type": "markdown",
   "metadata": {},
   "source": [
    "### Bubble sort"
   ]
  },
  {
   "cell_type": "code",
   "execution_count": 191,
   "metadata": {},
   "outputs": [
    {
     "name": "stdout",
     "output_type": "stream",
     "text": [
      "[10, 9, 8, 7, 6, 5, 4, 3, 2, 1]\n",
      "Count :  45\n",
      "Time :  4.1961669921875e-05\n",
      "[1, 2, 3, 4, 5, 6, 7, 8, 9, 10]\n"
     ]
    }
   ],
   "source": [
    "import time\n",
    "\n",
    "def bubSort(lst,order:int = 1):\n",
    "    count = 0\n",
    "    for i in range(len(lst)-1):\n",
    "        for j in range(len(lst)-i-1):\n",
    "            if lst[j]>lst[j+1]:\n",
    "                lst[j],lst[j+1] = lst[j+1],lst[j]\n",
    "            count+=1\n",
    "    print(\"Count : \",count)\n",
    "    return lst if order not in [-1] else lst[::-1]\n",
    "\n",
    "lst = [i for i in range(10,0,-1)]\n",
    "print(lst)\n",
    "\n",
    "start = time.time()\n",
    "sLst = bubSort(lst)\n",
    "stop = time.time()\n",
    "print(\"Time : \",stop-start)\n",
    "print(sLst)"
   ]
  },
  {
   "cell_type": "code",
   "execution_count": 192,
   "metadata": {},
   "outputs": [
    {
     "name": "stdout",
     "output_type": "stream",
     "text": [
      "[10, 9, 8, 7, 6, 5, 4, 3, 2, 1]\n",
      "Count :  45\n",
      "Time :  7.224082946777344e-05\n",
      "[1, 2, 3, 4, 5, 6, 7, 8, 9, 10]\n"
     ]
    }
   ],
   "source": [
    "import time\n",
    "\n",
    "def bubSort(lst,order:int = 1):\n",
    "    count = 0\n",
    "    for i in range(len(lst)):\n",
    "        for j in range(i+1,len(lst)):\n",
    "            if lst[i]>lst[j]:\n",
    "                lst[i],lst[j] = lst[j],lst[i]\n",
    "            count+=1\n",
    "    print(\"Count : \",count)\n",
    "    return lst if order not in [-1] else lst[::-1]\n",
    "\n",
    "lst = [i for i in range(10,0,-1)]\n",
    "print(lst)\n",
    "\n",
    "start = time.time()\n",
    "sLst = bubSort(lst)\n",
    "stop = time.time()\n",
    "print(\"Time : \",stop-start)\n",
    "print(sLst)"
   ]
  },
  {
   "cell_type": "markdown",
   "metadata": {},
   "source": [
    "### Selection sort"
   ]
  },
  {
   "cell_type": "code",
   "execution_count": 195,
   "metadata": {},
   "outputs": [
    {
     "name": "stdout",
     "output_type": "stream",
     "text": [
      "[10, 9, 8, 7, 6, 5, 4, 3, 2, 1]\n",
      "Time :  4.315376281738281e-05\n",
      "[1, 2, 3, 4, 5, 6, 7, 8, 9, 10]\n"
     ]
    }
   ],
   "source": [
    "def selSort(lst,order:int = 1):\n",
    "    for i in range(len(lst)):\n",
    "        min = i\n",
    "        for j in range(i+1, len(lst)):\n",
    "            if lst[min]> lst[j]:\n",
    "                min = j\n",
    "        lst[i],lst[min] = lst[min],lst[i]\n",
    "    return lst if order not in [-1] else lst[::-1]\n",
    "\n",
    "\n",
    "lst = [i for i in range(10,0,-1)]\n",
    "print(lst)\n",
    "\n",
    "start = time.time()\n",
    "sLst = selSort(lst)\n",
    "stop = time.time()\n",
    "print(\"Time : \",stop-start)\n",
    "print(sLst)"
   ]
  },
  {
   "cell_type": "markdown",
   "metadata": {},
   "source": [
    "## Recursion"
   ]
  },
  {
   "cell_type": "code",
   "execution_count": 213,
   "metadata": {},
   "outputs": [
    {
     "data": {
      "text/plain": [
       "120"
      ]
     },
     "execution_count": 213,
     "metadata": {},
     "output_type": "execute_result"
    }
   ],
   "source": [
    "def fact(n:int):\n",
    "    return n*fact(n-1) if n != 0 else 1\n",
    "\n",
    "fact(5)"
   ]
  },
  {
   "cell_type": "code",
   "execution_count": 214,
   "metadata": {},
   "outputs": [
    {
     "name": "stdout",
     "output_type": "stream",
     "text": [
      "10\n"
     ]
    }
   ],
   "source": [
    "def sumList(lst):\n",
    "    return lst[0]+sumList(lst[1:]) if len(lst)>0 else 0\n",
    "\n",
    "lst = range(5)\n",
    "\n",
    "print(sumList(lst))"
   ]
  },
  {
   "cell_type": "code",
   "execution_count": 231,
   "metadata": {},
   "outputs": [
    {
     "name": "stdout",
     "output_type": "stream",
     "text": [
      "True\n"
     ]
    }
   ],
   "source": [
    "def isPal(lst):\n",
    "    if len(lst)<2: return True\n",
    "    return isPal(lst[1:-1]) if lst[0]==lst[-1] else False\n",
    "\n",
    "print(isPal(\"madam\"))"
   ]
  },
  {
   "cell_type": "markdown",
   "metadata": {},
   "source": [
    "# 28.06.24"
   ]
  },
  {
   "cell_type": "markdown",
   "metadata": {},
   "source": [
    "## Quick Sort"
   ]
  },
  {
   "cell_type": "code",
   "execution_count": 256,
   "metadata": {},
   "outputs": [
    {
     "name": "stdout",
     "output_type": "stream",
     "text": [
      "[10, 9, 8, 7, 6, 5, 4, 3, 2, 1]\n",
      "[1, 2, 3, 4, 5, 6, 7, 8, 9, 10]\n"
     ]
    }
   ],
   "source": [
    "def partition(lst,start,end):\n",
    "    i = start\n",
    "    j = end - 1\n",
    "    pivot = lst[end]\n",
    "\n",
    "    while i<j:\n",
    "        while lst[i]<pivot:\n",
    "            i+=1\n",
    "        while lst[j]>pivot:\n",
    "            j-=1\n",
    "        if i<j:\n",
    "            lst[i],lst[j] = lst[j],lst[i]\n",
    "    if lst[i]>pivot:\n",
    "        lst[i],lst[end] = pivot,lst[i]\n",
    "    return i\n",
    "\n",
    "def quickSort(lst,start,end):\n",
    "    if start<end:\n",
    "        p = partition(lst,start,end)\n",
    "        quickSort(lst,start,p-1)\n",
    "        quickSort(lst,p+1,end)\n",
    "    return lst\n",
    "\n",
    "lst = [i for i in range(10,0,-1)]\n",
    "print(lst)\n",
    "print(quickSort(lst,0,len(lst)-1))"
   ]
  },
  {
   "cell_type": "markdown",
   "metadata": {},
   "source": [
    "## Merge Sort"
   ]
  },
  {
   "cell_type": "code",
   "execution_count": 294,
   "metadata": {},
   "outputs": [
    {
     "name": "stdout",
     "output_type": "stream",
     "text": [
      "init :  [10, 9, 8, 7, 6, 5, 4, 3, 2, 1] \n",
      "\n",
      "\n",
      "parted l,r :  [10, 9, 8, 7, 6] [5, 4, 3, 2, 1]\n",
      "parted l,r :  [10, 9] [8, 7, 6]\n",
      "parted l,r :  [10] [9]\n",
      "merge :  [10] [9]\n",
      "merged :  [9, 10]\n",
      "\n",
      "\n",
      "parted l,r :  [8] [7, 6]\n",
      "parted l,r :  [7] [6]\n",
      "merge :  [7] [6]\n",
      "merged :  [6, 7]\n",
      "\n",
      "\n",
      "merge :  [8] [6, 7]\n",
      "merged :  [6, 7, 8]\n",
      "\n",
      "\n",
      "merge :  [9, 10] [6, 7, 8]\n",
      "merged :  [6, 7, 8, 9, 10]\n",
      "\n",
      "\n",
      "parted l,r :  [5, 4] [3, 2, 1]\n",
      "parted l,r :  [5] [4]\n",
      "merge :  [5] [4]\n",
      "merged :  [4, 5]\n",
      "\n",
      "\n",
      "parted l,r :  [3] [2, 1]\n",
      "parted l,r :  [2] [1]\n",
      "merge :  [2] [1]\n",
      "merged :  [1, 2]\n",
      "\n",
      "\n",
      "merge :  [3] [1, 2]\n",
      "merged :  [1, 2, 3]\n",
      "\n",
      "\n",
      "merge :  [4, 5] [1, 2, 3]\n",
      "merged :  [1, 2, 3, 4, 5]\n",
      "\n",
      "\n",
      "merge :  [6, 7, 8, 9, 10] [1, 2, 3, 4, 5]\n",
      "merged :  [1, 2, 3, 4, 5, 6, 7, 8, 9, 10]\n",
      "\n",
      "\n",
      "[1, 2, 3, 4, 5, 6, 7, 8, 9, 10]\n"
     ]
    }
   ],
   "source": [
    "def mergeSort(lst):\n",
    "    if len(lst) == 1: return lst\n",
    "\n",
    "    mid = len(lst)//2\n",
    "\n",
    "    l = lst[:mid]\n",
    "    r = lst[mid:]\n",
    "    print(\"parted l,r : \",l,r)\n",
    "    lr = mergeSort(l)\n",
    "    rr = mergeSort(r)\n",
    "    \n",
    "    i=0\n",
    "    j=0\n",
    "    k=0\n",
    "    print(\"merge : \",l,r)\n",
    "    while i<len(l) and j<len(r):\n",
    "        if l[i]<r[j]:\n",
    "            lst[k]=l[i]\n",
    "            i+=1\n",
    "        else:\n",
    "            lst[k]=r[j]\n",
    "            j+=1\n",
    "        k+=1\n",
    "    if i<len(l):\n",
    "        for ele in l[i:]:\n",
    "            lst[k]=ele\n",
    "            k+=1\n",
    "    if j<len(r):\n",
    "        for ele in r[j:]:\n",
    "            lst[k]=ele\n",
    "            k+=1\n",
    "    print(\"merged : \",lst)\n",
    "    print(\"\\n\")\n",
    "    return lst\n",
    "        \n",
    "\n",
    "lst = [i for i in range(10,0,-1)]\n",
    "print(\"init : \",lst,\"\\n\\n\")\n",
    "print(mergeSort(lst))"
   ]
  },
  {
   "cell_type": "markdown",
   "metadata": {},
   "source": [
    "## Insertion Sort"
   ]
  },
  {
   "cell_type": "code",
   "execution_count": 314,
   "metadata": {},
   "outputs": [
    {
     "name": "stdout",
     "output_type": "stream",
     "text": [
      "[10, 9, 8, 7, 6, 5, 4, 3, 2, 1]\n",
      "[1, 2, 3, 4, 5, 6, 7, 8, 9, 10]\n"
     ]
    }
   ],
   "source": [
    "def inSort(lst):\n",
    "    pIndex = 0\n",
    "\n",
    "    while pIndex<len(lst):\n",
    "        for i in range(pIndex,len(lst)):\n",
    "            if lst[pIndex]>lst[i]:\n",
    "                lst[pIndex],lst[i] = lst[i],lst[pIndex]\n",
    "        pIndex+=1\n",
    "\n",
    "    return lst\n",
    "\n",
    "lst = [i for i in range(10,0,-1)]\n",
    "print(lst)\n",
    "print(inSort(lst))"
   ]
  },
  {
   "cell_type": "markdown",
   "metadata": {},
   "source": [
    "## Queue"
   ]
  },
  {
   "cell_type": "markdown",
   "metadata": {},
   "source": [
    "**Queue is a linear dynamic datastructure, works with the principle of FIFO**\n",
    "\n",
    "* In this insertion of elements occurs at one end called rear, deletion happens at another end called front."
   ]
  },
  {
   "cell_type": "markdown",
   "metadata": {},
   "source": [
    "### Operations"
   ]
  },
  {
   "cell_type": "markdown",
   "metadata": {},
   "source": [
    "* Enque     -> add elements at the rear, allows duplicates\n",
    "\n",
    "* Deque\n",
    "\n",
    "* Peek\n",
    "\n",
    "* Display\n",
    "\n",
    "* isEmpty\n",
    "\n",
    "* isFull "
   ]
  },
  {
   "cell_type": "code",
   "execution_count": 338,
   "metadata": {},
   "outputs": [],
   "source": [
    "class Q:\n",
    "    def __init__(self,maxSize:int) -> None:\n",
    "        self.q = []\n",
    "        self.maxSize = maxSize\n",
    "\n",
    "    def __str__(self) -> str:\n",
    "        return \"Queue : \"+\" \".join(map(str,self.q)) if len(self.q)>0 else \"Queue : Empty\"\n",
    "    \n",
    "    def isFull(self) -> bool:\n",
    "        return True if self.maxSize == len(self.q) else False\n",
    "\n",
    "    def isEmpty(self) -> bool:\n",
    "        return True if 0 == len(self.q) else False\n",
    "\n",
    "    def enQ(self,val) -> bool:\n",
    "        if self.isFull() : return False\n",
    "        self.q.append(val)\n",
    "        return True\n",
    "    \n",
    "    def deQ(self) -> any:\n",
    "        return False if self.isEmpty() else self.q.pop(0)\n",
    "\n",
    "    def peek(self) -> any:\n",
    "        return False if self.isEmpty() else self.q[0]"
   ]
  },
  {
   "cell_type": "code",
   "execution_count": 343,
   "metadata": {},
   "outputs": [
    {
     "name": "stdout",
     "output_type": "stream",
     "text": [
      "Queue : Empty\n",
      "Pushed\n",
      "Pushed\n",
      "Queue : 10 20\n",
      "Peek :  10\n",
      "Peek :  20\n",
      "Queue : Empty\n"
     ]
    }
   ],
   "source": [
    "q = Q(2)\n",
    "print(q)\n",
    "\n",
    "if q.enQ(10):print(\"Pushed\")\n",
    "if q.enQ(20):print(\"Pushed\")\n",
    "if q.enQ(30):print(\"Pushed\")\n",
    "print(q)\n",
    "\n",
    "print(\"Peek : \",q.peek())\n",
    "\n",
    "p = q.deQ()\n",
    "if p is True: print(\"Popped : \",p)\n",
    "\n",
    "print(\"Peek : \",q.peek())\n",
    "\n",
    "p = q.deQ()\n",
    "if p is True: print(\"Popped : \",p)\n",
    "\n",
    "print(q)\n"
   ]
  },
  {
   "cell_type": "markdown",
   "metadata": {},
   "source": [
    "## Trees"
   ]
  },
  {
   "cell_type": "code",
   "execution_count": 344,
   "metadata": {},
   "outputs": [],
   "source": [
    "class Node:\n",
    "    def __init__(self) -> None:\n",
    "        self.data = None\n",
    "        self.rchild = None\n",
    "        self.lchild = None"
   ]
  },
  {
   "cell_type": "code",
   "execution_count": 380,
   "metadata": {},
   "outputs": [],
   "source": [
    "class bTree:\n",
    "    def __init__(self) -> None:\n",
    "        self.root = Node()\n",
    "        self.size = 0\n",
    "\n",
    "    def __str__(self) -> str:\n",
    "        return str(self.size) if self.size else \"EMPTY\"\n",
    "\n",
    "    def insert(self,value) -> bool:\n",
    "        temp = Node()\n",
    "        temp.data = value\n",
    "\n",
    "        if self.size == 0: \n",
    "            self.root = temp\n",
    "            self.size += 1\n",
    "            return True\n",
    "        \n",
    "        travel = self.root\n",
    "        while travel:\n",
    "            prev = travel\n",
    "            if temp.data > travel.data : travel = travel.rchild\n",
    "            elif temp.data < travel.data : travel = travel.lchild\n",
    "        if temp.data > prev.data : prev.rchild = temp\n",
    "        else : prev.lchild = temp\n",
    "        self.size += 1\n",
    "        return True"
   ]
  },
  {
   "cell_type": "code",
   "execution_count": 382,
   "metadata": {},
   "outputs": [
    {
     "name": "stdout",
     "output_type": "stream",
     "text": [
      "EMPTY\n",
      "3\n"
     ]
    }
   ],
   "source": [
    "t = bTree()\n",
    "\n",
    "print(t)\n",
    "\n",
    "t.insert(10)\n",
    "t.insert(20)\n",
    "t.insert(9)\n",
    "\n",
    "print(t)"
   ]
  },
  {
   "cell_type": "code",
   "execution_count": 548,
   "metadata": {},
   "outputs": [],
   "source": [
    "class T:\n",
    "    def __init__(self,data) -> None:\n",
    "        self.data = data\n",
    "        self.lChild = None\n",
    "        self.rChild = None\n",
    "\n",
    "    def insert(self,data) -> None:\n",
    "        if self.data is not None:\n",
    "            if data < self.data: \n",
    "                if self.lChild is None : self.lChild = T(data)\n",
    "                else : self.lChild.insert(data)\n",
    "\n",
    "            elif data > self.data:\n",
    "                if self.rChild is None: self.rChild = T(data)\n",
    "                else : self.rChild.insert(data)\n",
    "        else : \n",
    "            self.data = data\n",
    "\n",
    "    def summary(self,pos = 0,lvl = 0,parent = None):\n",
    "        for i in range(lvl):\n",
    "            print(\"\\t\",end='')\n",
    "        if self.data is not None:\n",
    "            match pos:\n",
    "                case 0:\n",
    "                    print(lvl,\" : ROOT => \",self.data)\n",
    "                case -1:\n",
    "                    print(lvl,\" : lChild => \",self.data)\n",
    "                case 1:\n",
    "                    print(lvl,\" : rChild => \",self.data)\n",
    "\n",
    "        if self.lChild : self.lChild.summary(-1,lvl+1,self.data)\n",
    "        if self.rChild : self.rChild.summary(1,lvl+1,self.data)"
   ]
  },
  {
   "cell_type": "code",
   "execution_count": 551,
   "metadata": {},
   "outputs": [
    {
     "name": "stdout",
     "output_type": "stream",
     "text": [
      "<__main__.T object at 0x1077bf130> \n",
      "\n",
      "[15, 12, 20, 10, 13, 19, 25, 6, 11, 0, 32, 0, 11, 22, 15] \n",
      "\n",
      "0  : ROOT =>  15\n",
      "\t1  : lChild =>  12\n",
      "\t\t2  : lChild =>  10\n",
      "\t\t\t3  : lChild =>  6\n",
      "\t\t\t\t4  : lChild =>  0\n",
      "\t\t\t3  : rChild =>  11\n",
      "\t\t2  : rChild =>  13\n",
      "\t1  : rChild =>  20\n",
      "\t\t2  : lChild =>  19\n",
      "\t\t2  : rChild =>  25\n",
      "\t\t\t3  : lChild =>  22\n",
      "\t\t\t3  : rChild =>  32\n"
     ]
    }
   ],
   "source": [
    "t = T(None)\n",
    "print(t,'\\n')\n",
    "\n",
    "lst = [15,12,20,10,13,19,25,6,11,0,32,0,11,22,15]\n",
    "#lst = [i for i in range(10)]\n",
    "print(lst,\"\\n\")\n",
    "for i in lst:\n",
    "    t.insert(i)\n",
    "\n",
    "t.summary()"
   ]
  },
  {
   "cell_type": "markdown",
   "metadata": {},
   "source": [
    "# NEXT"
   ]
  },
  {
   "cell_type": "markdown",
   "metadata": {},
   "source": []
  },
  {
   "cell_type": "code",
   "execution_count": null,
   "metadata": {},
   "outputs": [],
   "source": []
  }
 ],
 "metadata": {
  "kernelspec": {
   "display_name": "base",
   "language": "python",
   "name": "python3"
  },
  "language_info": {
   "codemirror_mode": {
    "name": "ipython",
    "version": 3
   },
   "file_extension": ".py",
   "mimetype": "text/x-python",
   "name": "python",
   "nbconvert_exporter": "python",
   "pygments_lexer": "ipython3",
   "version": "3.1.undefined"
  }
 },
 "nbformat": 4,
 "nbformat_minor": 2
}
